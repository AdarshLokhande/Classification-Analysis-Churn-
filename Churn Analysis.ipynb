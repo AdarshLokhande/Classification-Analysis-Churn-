{
 "cells": [
  {
   "cell_type": "markdown",
   "id": "f8023d80-19b7-40f3-8455-f304e6602d48",
   "metadata": {},
   "source": [
    "# Small Information About Dataset"
   ]
  },
  {
   "cell_type": "markdown",
   "id": "b5cd60e7-dde3-441b-a973-d021cd4758d9",
   "metadata": {},
   "source": [
    "### Problem Statement : To predict the behaviour to retain customers . I can analyse all the relavant customer data and develop focused customer retention programs."
   ]
  },
  {
   "cell_type": "markdown",
   "id": "c5e41c15-7822-46f0-bfdc-7d25e2eca4e1",
   "metadata": {},
   "source": [
    "#### Each row represents a customer, each column contains customer’s attributes described on the column Metadata.\n",
    "\n",
    "#### the data set includes information about:\n",
    "\n",
    "#### Customers who left within the last month – the column is called Churn\n",
    "#### Services that each customer has signed up for – phone, multiple lines, internet, online security, online backup, device protection, tech support, and streaming TV and movies\n",
    "#### Customer account information – how long they’ve been a customer, contract, payment method, paperless billing, monthly charges, and total charges\n",
    "#### Demographic info about customers – gender, age range, and if they have partners and dependents"
   ]
  },
  {
   "cell_type": "markdown",
   "id": "33ae8002-9df1-4b1f-8b22-182ea1977289",
   "metadata": {},
   "source": [
    "#### CUSTOMER CHURN : Customer churn, also known as customer attrition,is when a customer chooses to stop using products or services of a company. But with each customer who churns, there are usually early indicators or metrics that can have been uncovered with churn analysis."
   ]
  },
  {
   "cell_type": "code",
   "execution_count": 1,
   "id": "5b89c13f-f672-4dc9-99ad-7a827b61feb1",
   "metadata": {},
   "outputs": [],
   "source": [
    "# Customer ID\n",
    "# Gender : whether the customer is a male or female\n",
    "# Senior Citizen : whether the customer is a senior citizen or not(1,0)\n",
    "# Partner : wheteher the customer has a partner or not \n",
    "# Dependents : whether the customer has dependents or not\n",
    "# tenure : number of months the customer has stayed with company\n",
    "# Phone Service : whether the customer has a phone service or not\n",
    "# MultipleLines : whether the customer has multiple lines or not (yes , no , no phone lines)\n",
    "# Internet Service : Customer's internet service provider(DSL , Fiber optic , No)\n",
    "# OnlineSecurity : Whether the customer has online security or not (Yes, No, No internet service)\n",
    "# Online backup : Whether the customer has online backup or not (Yes, No, No internet service)\n",
    "# DeviceProtection : Whether the customer has device protection or not (Yes, No, No internet service)\n",
    "# TechSupport : Whether the customer has tech support or not (Yes, No, No internet service)\n",
    "# StreamingTV : Whether the customer has streaming TV or not (Yes, No, No internet service)\n",
    "# StreamingMovies : Whether the customer has streaming movies or not (Yes, No, No internet service)\n",
    "# Contract : The contract term of the customer (Month-to-month, One year, Two year)\n",
    "# PaperlessBilling : Whether the customer has paperless billing or not (Yes, No)\n",
    "# PaymentMethod : The customer’s payment method (Electronic check, Mailed check, Bank transfer (automatic), Credit card (automatic))\n",
    "# MonthlyCharges : The amount charged to the customer monthly\n",
    "# TotalCharges : The total amount charged to the customer\n",
    "# Churn : whether the customer churnedd or not (yes or no)"
   ]
  },
  {
   "cell_type": "code",
   "execution_count": 2,
   "id": "1f1175c2-2e88-4735-982f-1a56f6a0f00e",
   "metadata": {},
   "outputs": [
    {
     "data": {
      "text/html": [
       "<div>\n",
       "<style scoped>\n",
       "    .dataframe tbody tr th:only-of-type {\n",
       "        vertical-align: middle;\n",
       "    }\n",
       "\n",
       "    .dataframe tbody tr th {\n",
       "        vertical-align: top;\n",
       "    }\n",
       "\n",
       "    .dataframe thead th {\n",
       "        text-align: right;\n",
       "    }\n",
       "</style>\n",
       "<table border=\"1\" class=\"dataframe\">\n",
       "  <thead>\n",
       "    <tr style=\"text-align: right;\">\n",
       "      <th></th>\n",
       "      <th>customerID</th>\n",
       "      <th>gender</th>\n",
       "      <th>SeniorCitizen</th>\n",
       "      <th>Partner</th>\n",
       "      <th>Dependents</th>\n",
       "      <th>tenure</th>\n",
       "      <th>PhoneService</th>\n",
       "      <th>MultipleLines</th>\n",
       "      <th>InternetService</th>\n",
       "      <th>OnlineSecurity</th>\n",
       "      <th>...</th>\n",
       "      <th>DeviceProtection</th>\n",
       "      <th>TechSupport</th>\n",
       "      <th>StreamingTV</th>\n",
       "      <th>StreamingMovies</th>\n",
       "      <th>Contract</th>\n",
       "      <th>PaperlessBilling</th>\n",
       "      <th>PaymentMethod</th>\n",
       "      <th>MonthlyCharges</th>\n",
       "      <th>TotalCharges</th>\n",
       "      <th>Churn</th>\n",
       "    </tr>\n",
       "  </thead>\n",
       "  <tbody>\n",
       "    <tr>\n",
       "      <th>0</th>\n",
       "      <td>7590-VHVEG</td>\n",
       "      <td>Female</td>\n",
       "      <td>0</td>\n",
       "      <td>Yes</td>\n",
       "      <td>No</td>\n",
       "      <td>1</td>\n",
       "      <td>No</td>\n",
       "      <td>No phone service</td>\n",
       "      <td>DSL</td>\n",
       "      <td>No</td>\n",
       "      <td>...</td>\n",
       "      <td>No</td>\n",
       "      <td>No</td>\n",
       "      <td>No</td>\n",
       "      <td>No</td>\n",
       "      <td>Month-to-month</td>\n",
       "      <td>Yes</td>\n",
       "      <td>Electronic check</td>\n",
       "      <td>29.85</td>\n",
       "      <td>29.85</td>\n",
       "      <td>No</td>\n",
       "    </tr>\n",
       "    <tr>\n",
       "      <th>1</th>\n",
       "      <td>5575-GNVDE</td>\n",
       "      <td>Male</td>\n",
       "      <td>0</td>\n",
       "      <td>No</td>\n",
       "      <td>No</td>\n",
       "      <td>34</td>\n",
       "      <td>Yes</td>\n",
       "      <td>No</td>\n",
       "      <td>DSL</td>\n",
       "      <td>Yes</td>\n",
       "      <td>...</td>\n",
       "      <td>Yes</td>\n",
       "      <td>No</td>\n",
       "      <td>No</td>\n",
       "      <td>No</td>\n",
       "      <td>One year</td>\n",
       "      <td>No</td>\n",
       "      <td>Mailed check</td>\n",
       "      <td>56.95</td>\n",
       "      <td>1889.5</td>\n",
       "      <td>No</td>\n",
       "    </tr>\n",
       "    <tr>\n",
       "      <th>2</th>\n",
       "      <td>3668-QPYBK</td>\n",
       "      <td>Male</td>\n",
       "      <td>0</td>\n",
       "      <td>No</td>\n",
       "      <td>No</td>\n",
       "      <td>2</td>\n",
       "      <td>Yes</td>\n",
       "      <td>No</td>\n",
       "      <td>DSL</td>\n",
       "      <td>Yes</td>\n",
       "      <td>...</td>\n",
       "      <td>No</td>\n",
       "      <td>No</td>\n",
       "      <td>No</td>\n",
       "      <td>No</td>\n",
       "      <td>Month-to-month</td>\n",
       "      <td>Yes</td>\n",
       "      <td>Mailed check</td>\n",
       "      <td>53.85</td>\n",
       "      <td>108.15</td>\n",
       "      <td>Yes</td>\n",
       "    </tr>\n",
       "    <tr>\n",
       "      <th>3</th>\n",
       "      <td>7795-CFOCW</td>\n",
       "      <td>Male</td>\n",
       "      <td>0</td>\n",
       "      <td>No</td>\n",
       "      <td>No</td>\n",
       "      <td>45</td>\n",
       "      <td>No</td>\n",
       "      <td>No phone service</td>\n",
       "      <td>DSL</td>\n",
       "      <td>Yes</td>\n",
       "      <td>...</td>\n",
       "      <td>Yes</td>\n",
       "      <td>Yes</td>\n",
       "      <td>No</td>\n",
       "      <td>No</td>\n",
       "      <td>One year</td>\n",
       "      <td>No</td>\n",
       "      <td>Bank transfer (automatic)</td>\n",
       "      <td>42.30</td>\n",
       "      <td>1840.75</td>\n",
       "      <td>No</td>\n",
       "    </tr>\n",
       "    <tr>\n",
       "      <th>4</th>\n",
       "      <td>9237-HQITU</td>\n",
       "      <td>Female</td>\n",
       "      <td>0</td>\n",
       "      <td>No</td>\n",
       "      <td>No</td>\n",
       "      <td>2</td>\n",
       "      <td>Yes</td>\n",
       "      <td>No</td>\n",
       "      <td>Fiber optic</td>\n",
       "      <td>No</td>\n",
       "      <td>...</td>\n",
       "      <td>No</td>\n",
       "      <td>No</td>\n",
       "      <td>No</td>\n",
       "      <td>No</td>\n",
       "      <td>Month-to-month</td>\n",
       "      <td>Yes</td>\n",
       "      <td>Electronic check</td>\n",
       "      <td>70.70</td>\n",
       "      <td>151.65</td>\n",
       "      <td>Yes</td>\n",
       "    </tr>\n",
       "  </tbody>\n",
       "</table>\n",
       "<p>5 rows × 21 columns</p>\n",
       "</div>"
      ],
      "text/plain": [
       "   customerID  gender  SeniorCitizen Partner Dependents  tenure PhoneService  \\\n",
       "0  7590-VHVEG  Female              0     Yes         No       1           No   \n",
       "1  5575-GNVDE    Male              0      No         No      34          Yes   \n",
       "2  3668-QPYBK    Male              0      No         No       2          Yes   \n",
       "3  7795-CFOCW    Male              0      No         No      45           No   \n",
       "4  9237-HQITU  Female              0      No         No       2          Yes   \n",
       "\n",
       "      MultipleLines InternetService OnlineSecurity  ... DeviceProtection  \\\n",
       "0  No phone service             DSL             No  ...               No   \n",
       "1                No             DSL            Yes  ...              Yes   \n",
       "2                No             DSL            Yes  ...               No   \n",
       "3  No phone service             DSL            Yes  ...              Yes   \n",
       "4                No     Fiber optic             No  ...               No   \n",
       "\n",
       "  TechSupport StreamingTV StreamingMovies        Contract PaperlessBilling  \\\n",
       "0          No          No              No  Month-to-month              Yes   \n",
       "1          No          No              No        One year               No   \n",
       "2          No          No              No  Month-to-month              Yes   \n",
       "3         Yes          No              No        One year               No   \n",
       "4          No          No              No  Month-to-month              Yes   \n",
       "\n",
       "               PaymentMethod MonthlyCharges  TotalCharges Churn  \n",
       "0           Electronic check          29.85         29.85    No  \n",
       "1               Mailed check          56.95        1889.5    No  \n",
       "2               Mailed check          53.85        108.15   Yes  \n",
       "3  Bank transfer (automatic)          42.30       1840.75    No  \n",
       "4           Electronic check          70.70        151.65   Yes  \n",
       "\n",
       "[5 rows x 21 columns]"
      ]
     },
     "execution_count": 2,
     "metadata": {},
     "output_type": "execute_result"
    }
   ],
   "source": [
    "import pandas as pd\n",
    "df = pd.read_csv('Churn.csv')\n",
    "df.head()"
   ]
  },
  {
   "cell_type": "code",
   "execution_count": 3,
   "id": "8c78af2d-7371-44f9-a314-d82c6ae4d93d",
   "metadata": {},
   "outputs": [
    {
     "data": {
      "text/plain": [
       "(7043, 21)"
      ]
     },
     "execution_count": 3,
     "metadata": {},
     "output_type": "execute_result"
    }
   ],
   "source": [
    "df.shape"
   ]
  },
  {
   "cell_type": "code",
   "execution_count": 4,
   "id": "33b35028-60bf-44c0-98d7-8d72f128ddaa",
   "metadata": {},
   "outputs": [
    {
     "data": {
      "text/plain": [
       "147903"
      ]
     },
     "execution_count": 4,
     "metadata": {},
     "output_type": "execute_result"
    }
   ],
   "source": [
    "df.size"
   ]
  },
  {
   "cell_type": "code",
   "execution_count": 5,
   "id": "8eea3eed-6c5c-48ad-8fc0-1560b8e3ab9e",
   "metadata": {},
   "outputs": [
    {
     "data": {
      "text/plain": [
       "customerID          0\n",
       "gender              0\n",
       "SeniorCitizen       0\n",
       "Partner             0\n",
       "Dependents          0\n",
       "tenure              0\n",
       "PhoneService        0\n",
       "MultipleLines       0\n",
       "InternetService     0\n",
       "OnlineSecurity      0\n",
       "OnlineBackup        0\n",
       "DeviceProtection    0\n",
       "TechSupport         0\n",
       "StreamingTV         0\n",
       "StreamingMovies     0\n",
       "Contract            0\n",
       "PaperlessBilling    0\n",
       "PaymentMethod       0\n",
       "MonthlyCharges      0\n",
       "TotalCharges        0\n",
       "Churn               0\n",
       "dtype: int64"
      ]
     },
     "execution_count": 5,
     "metadata": {},
     "output_type": "execute_result"
    }
   ],
   "source": [
    "df.isnull().sum()"
   ]
  },
  {
   "cell_type": "code",
   "execution_count": 6,
   "id": "e68706b0-04e7-451f-a83b-b002ae8796ca",
   "metadata": {},
   "outputs": [
    {
     "data": {
      "text/plain": [
       "customerID          7043\n",
       "gender                 2\n",
       "SeniorCitizen          2\n",
       "Partner                2\n",
       "Dependents             2\n",
       "tenure                73\n",
       "PhoneService           2\n",
       "MultipleLines          3\n",
       "InternetService        3\n",
       "OnlineSecurity         3\n",
       "OnlineBackup           3\n",
       "DeviceProtection       3\n",
       "TechSupport            3\n",
       "StreamingTV            3\n",
       "StreamingMovies        3\n",
       "Contract               3\n",
       "PaperlessBilling       2\n",
       "PaymentMethod          4\n",
       "MonthlyCharges      1585\n",
       "TotalCharges        6531\n",
       "Churn                  2\n",
       "dtype: int64"
      ]
     },
     "execution_count": 6,
     "metadata": {},
     "output_type": "execute_result"
    }
   ],
   "source": [
    "df.nunique()"
   ]
  },
  {
   "cell_type": "code",
   "execution_count": 7,
   "id": "88ed7f57-d867-4e85-a463-de5a03badd12",
   "metadata": {},
   "outputs": [
    {
     "data": {
      "text/plain": [
       "(7043, 20)"
      ]
     },
     "execution_count": 7,
     "metadata": {},
     "output_type": "execute_result"
    }
   ],
   "source": [
    "# As the churn is not dependent on customr id so we drop it\n",
    "df = df.drop(['customerID'] , axis = 1)\n",
    "df.shape"
   ]
  },
  {
   "cell_type": "code",
   "execution_count": 8,
   "id": "8d301b9c-7cfe-49ae-a77a-7bdb40900afe",
   "metadata": {},
   "outputs": [
    {
     "name": "stdout",
     "output_type": "stream",
     "text": [
      "<class 'pandas.core.frame.DataFrame'>\n",
      "RangeIndex: 7043 entries, 0 to 7042\n",
      "Data columns (total 20 columns):\n",
      " #   Column            Non-Null Count  Dtype  \n",
      "---  ------            --------------  -----  \n",
      " 0   gender            7043 non-null   object \n",
      " 1   SeniorCitizen     7043 non-null   int64  \n",
      " 2   Partner           7043 non-null   object \n",
      " 3   Dependents        7043 non-null   object \n",
      " 4   tenure            7043 non-null   int64  \n",
      " 5   PhoneService      7043 non-null   object \n",
      " 6   MultipleLines     7043 non-null   object \n",
      " 7   InternetService   7043 non-null   object \n",
      " 8   OnlineSecurity    7043 non-null   object \n",
      " 9   OnlineBackup      7043 non-null   object \n",
      " 10  DeviceProtection  7043 non-null   object \n",
      " 11  TechSupport       7043 non-null   object \n",
      " 12  StreamingTV       7043 non-null   object \n",
      " 13  StreamingMovies   7043 non-null   object \n",
      " 14  Contract          7043 non-null   object \n",
      " 15  PaperlessBilling  7043 non-null   object \n",
      " 16  PaymentMethod     7043 non-null   object \n",
      " 17  MonthlyCharges    7043 non-null   float64\n",
      " 18  TotalCharges      7043 non-null   object \n",
      " 19  Churn             7043 non-null   object \n",
      "dtypes: float64(1), int64(2), object(17)\n",
      "memory usage: 1.1+ MB\n"
     ]
    }
   ],
   "source": [
    "df.info()"
   ]
  },
  {
   "cell_type": "code",
   "execution_count": 9,
   "id": "f89175c9-8297-47be-aa6e-54104dfb9354",
   "metadata": {},
   "outputs": [],
   "source": [
    "# In chi2\n",
    "# if porbability value is less than 5% then we reject the null hypothesis\n",
    "# ho= there is no relation between given feature with dependent variable\n",
    "# ha= there is relation between given feature with dependent variable"
   ]
  },
  {
   "cell_type": "code",
   "execution_count": 10,
   "id": "010ef19b-6df1-4fd4-abca-9323d7f4e56a",
   "metadata": {},
   "outputs": [
    {
     "name": "stdout",
     "output_type": "stream",
     "text": [
      "Partner has p_value of 2.1399113440759935e-36\n",
      "Dependents has p_value of 4.9249216612154196e-43\n",
      "MultipleLines has p_value of 0.0034643829548773\n",
      "InternetService has p_value of 9.571788222840544e-160\n",
      "OnlineSecurity has p_value of 2.661149635176552e-185\n",
      "OnlineBackup has p_value of 2.0797592160864276e-131\n",
      "DeviceProtection has p_value of 5.505219496457244e-122\n",
      "TechSupport has p_value of 1.4430840279998987e-180\n",
      "StreamingTV has p_value of 5.528994485739183e-82\n",
      "StreamingMovies has p_value of 2.667756755723681e-82\n",
      "Contract has p_value of 5.863038300673391e-258\n",
      "PaperlessBilling has p_value of 4.073354668665985e-58\n",
      "PaymentMethod has p_value of 3.6823546520097993e-140\n",
      "Churn has p_value of 0.0\n"
     ]
    }
   ],
   "source": [
    "for cols in df.columns:\n",
    "    if df[cols].dtype == 'object':\n",
    "        from scipy.stats import chi2_contingency\n",
    "        chi_df = pd.crosstab(df[cols] , df['Churn'])\n",
    "        a , p_value , b ,c = chi2_contingency(chi_df)\n",
    "        if p_value <0.05:\n",
    "            print(f'{cols} has p_value of {p_value}')"
   ]
  },
  {
   "cell_type": "code",
   "execution_count": 11,
   "id": "0346c3b3-7f2d-4fff-a0e4-727cecf3753b",
   "metadata": {},
   "outputs": [],
   "source": [
    "# all the values is smaller than 0.05 so we reject the null hypothesis"
   ]
  },
  {
   "cell_type": "code",
   "execution_count": 12,
   "id": "1e4b274d-0b99-4d89-adad-0341cca79c26",
   "metadata": {},
   "outputs": [
    {
     "data": {
      "text/html": [
       "<div>\n",
       "<style scoped>\n",
       "    .dataframe tbody tr th:only-of-type {\n",
       "        vertical-align: middle;\n",
       "    }\n",
       "\n",
       "    .dataframe tbody tr th {\n",
       "        vertical-align: top;\n",
       "    }\n",
       "\n",
       "    .dataframe thead th {\n",
       "        text-align: right;\n",
       "    }\n",
       "</style>\n",
       "<table border=\"1\" class=\"dataframe\">\n",
       "  <thead>\n",
       "    <tr style=\"text-align: right;\">\n",
       "      <th></th>\n",
       "      <th>SeniorCitizen</th>\n",
       "      <th>tenure</th>\n",
       "      <th>MonthlyCharges</th>\n",
       "    </tr>\n",
       "  </thead>\n",
       "  <tbody>\n",
       "    <tr>\n",
       "      <th>SeniorCitizen</th>\n",
       "      <td>1.000000</td>\n",
       "      <td>0.016567</td>\n",
       "      <td>0.220173</td>\n",
       "    </tr>\n",
       "    <tr>\n",
       "      <th>tenure</th>\n",
       "      <td>0.016567</td>\n",
       "      <td>1.000000</td>\n",
       "      <td>0.247900</td>\n",
       "    </tr>\n",
       "    <tr>\n",
       "      <th>MonthlyCharges</th>\n",
       "      <td>0.220173</td>\n",
       "      <td>0.247900</td>\n",
       "      <td>1.000000</td>\n",
       "    </tr>\n",
       "  </tbody>\n",
       "</table>\n",
       "</div>"
      ],
      "text/plain": [
       "                SeniorCitizen    tenure  MonthlyCharges\n",
       "SeniorCitizen        1.000000  0.016567        0.220173\n",
       "tenure               0.016567  1.000000        0.247900\n",
       "MonthlyCharges       0.220173  0.247900        1.000000"
      ]
     },
     "execution_count": 12,
     "metadata": {},
     "output_type": "execute_result"
    }
   ],
   "source": [
    "df.corr()"
   ]
  },
  {
   "cell_type": "code",
   "execution_count": 13,
   "id": "1141c2c4-7623-4160-9d5e-c7784aeaa292",
   "metadata": {},
   "outputs": [
    {
     "data": {
      "text/plain": [
       "Int64Index([], dtype='int64')"
      ]
     },
     "execution_count": 13,
     "metadata": {},
     "output_type": "execute_result"
    }
   ],
   "source": [
    "#Removing tenure equal to 0\n",
    "df.drop(labels=df[df['tenure'] == 0].index, axis=0, inplace=True)\n",
    "df[df['tenure'] == 0].index"
   ]
  },
  {
   "cell_type": "code",
   "execution_count": 14,
   "id": "b97d412f-a73f-42b2-8b36-a2bcafc8d69f",
   "metadata": {},
   "outputs": [
    {
     "data": {
      "text/plain": [
       "(7032, 20)"
      ]
     },
     "execution_count": 14,
     "metadata": {},
     "output_type": "execute_result"
    }
   ],
   "source": [
    "df = df.drop(labels = df[df['tenure'] == 0].index , axis = 0)\n",
    "df.shape"
   ]
  },
  {
   "cell_type": "markdown",
   "id": "89328d4c-be6d-4d25-a7b2-ffa7b77f9d83",
   "metadata": {},
   "source": [
    "## Visualization"
   ]
  },
  {
   "cell_type": "code",
   "execution_count": 15,
   "id": "83b67397-c215-4f43-95e2-6e41fc41147e",
   "metadata": {},
   "outputs": [],
   "source": [
    "import matplotlib.pyplot as plt\n",
    "import seaborn as sns"
   ]
  },
  {
   "cell_type": "code",
   "execution_count": 16,
   "id": "e59df491-1d6a-4747-9657-31164900e02e",
   "metadata": {},
   "outputs": [
    {
     "data": {
      "text/plain": [
       "<seaborn.axisgrid.PairGrid at 0x22f1db4b400>"
      ]
     },
     "execution_count": 16,
     "metadata": {},
     "output_type": "execute_result"
    },
    {
     "data": {
      "image/png": "[encoded data removed]",
      "text/plain": [
       "<Figure size 540x540 with 12 Axes>"
      ]
     },
     "metadata": {
      "needs_background": "light"
     },
     "output_type": "display_data"
    }
   ],
   "source": [
    "sns.pairplot(df)"
   ]
  },
  {
   "cell_type": "code",
   "execution_count": 17,
   "id": "78415707-3876-40d6-a117-c925645ce84b",
   "metadata": {},
   "outputs": [
    {
     "data": {
      "text/plain": [
       "<AxesSubplot:xlabel='count', ylabel='Dependents'>"
      ]
     },
     "execution_count": 17,
     "metadata": {},
     "output_type": "execute_result"
    },
    {
     "data": {
      "image/png": "[encoded data removed]",
      "text/plain": [
       "<Figure size 1080x216 with 1 Axes>"
      ]
     },
     "metadata": {
      "needs_background": "light"
     },
     "output_type": "display_data"
    }
   ],
   "source": [
    "fig = plt.figure(figsize = (15,3))\n",
    "plt.style.use('seaborn-ticks')\n",
    "sns.countplot(y  = 'Dependents',data = df)"
   ]
  },
  {
   "cell_type": "code",
   "execution_count": 18,
   "id": "3a34e117-eff6-44da-97de-4b5b3c32bb90",
   "metadata": {},
   "outputs": [
    {
     "data": {
      "text/plain": [
       "Index(['gender', 'Partner', 'Dependents', 'PhoneService', 'MultipleLines',\n",
       "       'InternetService', 'OnlineSecurity', 'OnlineBackup', 'DeviceProtection',\n",
       "       'TechSupport', 'StreamingTV', 'StreamingMovies', 'Contract',\n",
       "       'PaperlessBilling', 'PaymentMethod', 'TotalCharges', 'Churn'],\n",
       "      dtype='object')"
      ]
     },
     "execution_count": 18,
     "metadata": {},
     "output_type": "execute_result"
    }
   ],
   "source": [
    "df.select_dtypes(include = ['object']).columns"
   ]
  },
  {
   "cell_type": "code",
   "execution_count": 19,
   "id": "9733b041-8809-4c6e-8848-837d4a388899",
   "metadata": {},
   "outputs": [
    {
     "data": {
      "text/plain": [
       "<AxesSubplot:xlabel='count', ylabel='Partner'>"
      ]
     },
     "execution_count": 19,
     "metadata": {},
     "output_type": "execute_result"
    },
    {
     "data": {
      "image/png": "[encoded data removed]",
      "text/plain": [
       "<Figure size 432x288 with 1 Axes>"
      ]
     },
     "metadata": {},
     "output_type": "display_data"
    }
   ],
   "source": [
    "sns.countplot(y  = 'Partner',data = df)"
   ]
  },
  {
   "cell_type": "code",
   "execution_count": 20,
   "id": "7da75fda-32d1-4243-954e-d403b637063f",
   "metadata": {},
   "outputs": [
    {
     "data": {
      "text/plain": [
       "<AxesSubplot:xlabel='Churn', ylabel='MonthlyCharges'>"
      ]
     },
     "execution_count": 20,
     "metadata": {},
     "output_type": "execute_result"
    },
    {
     "data": {
      "image/png": "[encoded data removed]",
      "text/plain": [
       "<Figure size 432x288 with 1 Axes>"
      ]
     },
     "metadata": {},
     "output_type": "display_data"
    }
   ],
   "source": [
    "sns.histplot(x = df.Churn , y = df.MonthlyCharges , hue = df.Churn)"
   ]
  },
  {
   "cell_type": "code",
   "execution_count": 21,
   "id": "44b77996-8853-46e2-8967-093d872ea442",
   "metadata": {},
   "outputs": [
    {
     "data": {
      "text/plain": [
       "No     5163\n",
       "Yes    1869\n",
       "Name: Churn, dtype: int64"
      ]
     },
     "execution_count": 21,
     "metadata": {},
     "output_type": "execute_result"
    }
   ],
   "source": [
    "df.Churn.value_counts()"
   ]
  },
  {
   "cell_type": "code",
   "execution_count": 22,
   "id": "72acc348-3e64-4dd8-94ba-84f6bf764b25",
   "metadata": {},
   "outputs": [
    {
     "data": {
      "image/png": "[encoded data removed]",
      "text/plain": [
       "<Figure size 864x864 with 9 Axes>"
      ]
     },
     "metadata": {},
     "output_type": "display_data"
    }
   ],
   "source": [
    "df.hist(figsize = (12,12) , layout=(3,3))\n",
    "plt.show()"
   ]
  },
  {
   "cell_type": "code",
   "execution_count": 23,
   "id": "2e89f084-840b-4590-bc1f-5e5adfc7112e",
   "metadata": {},
   "outputs": [
    {
     "data": {
      "image/png": "[encoded data removed]",
      "text/plain": [
       "<Figure size 864x864 with 9 Axes>"
      ]
     },
     "metadata": {},
     "output_type": "display_data"
    }
   ],
   "source": [
    "df.plot(kind = 'box',figsize = (12,12) , layout = (3,3) , sharex = False , subplots = True);"
   ]
  },
  {
   "cell_type": "markdown",
   "id": "591c03e8-ef66-408a-a6b0-6db670151211",
   "metadata": {},
   "source": [
    "### hence there is no outliers present in dataset so now we will convert categorical data into numerical data"
   ]
  },
  {
   "cell_type": "code",
   "execution_count": 24,
   "id": "07c3303b-4a20-4f16-8815-4f4177f5c18c",
   "metadata": {},
   "outputs": [],
   "source": [
    "from sklearn.preprocessing import LabelEncoder\n",
    "le = LabelEncoder()\n",
    "df[df.select_dtypes(include = ['object']).columns] = df[df.select_dtypes(include = ['object']).columns].apply(le.fit_transform)"
   ]
  },
  {
   "cell_type": "code",
   "execution_count": 25,
   "id": "b053b5d2-305b-46fe-9202-f1134f37d199",
   "metadata": {},
   "outputs": [
    {
     "data": {
      "text/plain": [
       "Index([], dtype='object')"
      ]
     },
     "execution_count": 25,
     "metadata": {},
     "output_type": "execute_result"
    }
   ],
   "source": [
    "df.select_dtypes(include = ['object']).columns\n",
    "# hence there is no categorical variable present in my dataset"
   ]
  },
  {
   "cell_type": "code",
   "execution_count": 26,
   "id": "3f512d65-253a-436a-bc9c-573764abc3a5",
   "metadata": {},
   "outputs": [
    {
     "data": {
      "text/html": [
       "<div>\n",
       "<style scoped>\n",
       "    .dataframe tbody tr th:only-of-type {\n",
       "        vertical-align: middle;\n",
       "    }\n",
       "\n",
       "    .dataframe tbody tr th {\n",
       "        vertical-align: top;\n",
       "    }\n",
       "\n",
       "    .dataframe thead th {\n",
       "        text-align: right;\n",
       "    }\n",
       "</style>\n",
       "<table border=\"1\" class=\"dataframe\">\n",
       "  <thead>\n",
       "    <tr style=\"text-align: right;\">\n",
       "      <th></th>\n",
       "      <th>gender</th>\n",
       "      <th>SeniorCitizen</th>\n",
       "      <th>Partner</th>\n",
       "      <th>Dependents</th>\n",
       "      <th>tenure</th>\n",
       "      <th>PhoneService</th>\n",
       "      <th>MultipleLines</th>\n",
       "      <th>InternetService</th>\n",
       "      <th>OnlineSecurity</th>\n",
       "      <th>OnlineBackup</th>\n",
       "      <th>DeviceProtection</th>\n",
       "      <th>TechSupport</th>\n",
       "      <th>StreamingTV</th>\n",
       "      <th>StreamingMovies</th>\n",
       "      <th>Contract</th>\n",
       "      <th>PaperlessBilling</th>\n",
       "      <th>PaymentMethod</th>\n",
       "      <th>MonthlyCharges</th>\n",
       "      <th>TotalCharges</th>\n",
       "      <th>Churn</th>\n",
       "    </tr>\n",
       "  </thead>\n",
       "  <tbody>\n",
       "    <tr>\n",
       "      <th>0</th>\n",
       "      <td>0</td>\n",
       "      <td>0</td>\n",
       "      <td>1</td>\n",
       "      <td>0</td>\n",
       "      <td>1</td>\n",
       "      <td>0</td>\n",
       "      <td>1</td>\n",
       "      <td>0</td>\n",
       "      <td>0</td>\n",
       "      <td>2</td>\n",
       "      <td>0</td>\n",
       "      <td>0</td>\n",
       "      <td>0</td>\n",
       "      <td>0</td>\n",
       "      <td>0</td>\n",
       "      <td>1</td>\n",
       "      <td>2</td>\n",
       "      <td>29.85</td>\n",
       "      <td>2504</td>\n",
       "      <td>0</td>\n",
       "    </tr>\n",
       "    <tr>\n",
       "      <th>1</th>\n",
       "      <td>1</td>\n",
       "      <td>0</td>\n",
       "      <td>0</td>\n",
       "      <td>0</td>\n",
       "      <td>34</td>\n",
       "      <td>1</td>\n",
       "      <td>0</td>\n",
       "      <td>0</td>\n",
       "      <td>2</td>\n",
       "      <td>0</td>\n",
       "      <td>2</td>\n",
       "      <td>0</td>\n",
       "      <td>0</td>\n",
       "      <td>0</td>\n",
       "      <td>1</td>\n",
       "      <td>0</td>\n",
       "      <td>3</td>\n",
       "      <td>56.95</td>\n",
       "      <td>1465</td>\n",
       "      <td>0</td>\n",
       "    </tr>\n",
       "    <tr>\n",
       "      <th>2</th>\n",
       "      <td>1</td>\n",
       "      <td>0</td>\n",
       "      <td>0</td>\n",
       "      <td>0</td>\n",
       "      <td>2</td>\n",
       "      <td>1</td>\n",
       "      <td>0</td>\n",
       "      <td>0</td>\n",
       "      <td>2</td>\n",
       "      <td>2</td>\n",
       "      <td>0</td>\n",
       "      <td>0</td>\n",
       "      <td>0</td>\n",
       "      <td>0</td>\n",
       "      <td>0</td>\n",
       "      <td>1</td>\n",
       "      <td>3</td>\n",
       "      <td>53.85</td>\n",
       "      <td>156</td>\n",
       "      <td>1</td>\n",
       "    </tr>\n",
       "    <tr>\n",
       "      <th>3</th>\n",
       "      <td>1</td>\n",
       "      <td>0</td>\n",
       "      <td>0</td>\n",
       "      <td>0</td>\n",
       "      <td>45</td>\n",
       "      <td>0</td>\n",
       "      <td>1</td>\n",
       "      <td>0</td>\n",
       "      <td>2</td>\n",
       "      <td>0</td>\n",
       "      <td>2</td>\n",
       "      <td>2</td>\n",
       "      <td>0</td>\n",
       "      <td>0</td>\n",
       "      <td>1</td>\n",
       "      <td>0</td>\n",
       "      <td>0</td>\n",
       "      <td>42.30</td>\n",
       "      <td>1399</td>\n",
       "      <td>0</td>\n",
       "    </tr>\n",
       "    <tr>\n",
       "      <th>4</th>\n",
       "      <td>0</td>\n",
       "      <td>0</td>\n",
       "      <td>0</td>\n",
       "      <td>0</td>\n",
       "      <td>2</td>\n",
       "      <td>1</td>\n",
       "      <td>0</td>\n",
       "      <td>1</td>\n",
       "      <td>0</td>\n",
       "      <td>0</td>\n",
       "      <td>0</td>\n",
       "      <td>0</td>\n",
       "      <td>0</td>\n",
       "      <td>0</td>\n",
       "      <td>0</td>\n",
       "      <td>1</td>\n",
       "      <td>2</td>\n",
       "      <td>70.70</td>\n",
       "      <td>924</td>\n",
       "      <td>1</td>\n",
       "    </tr>\n",
       "  </tbody>\n",
       "</table>\n",
       "</div>"
      ],
      "text/plain": [
       "   gender  SeniorCitizen  Partner  Dependents  tenure  PhoneService  \\\n",
       "0       0              0        1           0       1             0   \n",
       "1       1              0        0           0      34             1   \n",
       "2       1              0        0           0       2             1   \n",
       "3       1              0        0           0      45             0   \n",
       "4       0              0        0           0       2             1   \n",
       "\n",
       "   MultipleLines  InternetService  OnlineSecurity  OnlineBackup  \\\n",
       "0              1                0               0             2   \n",
       "1              0                0               2             0   \n",
       "2              0                0               2             2   \n",
       "3              1                0               2             0   \n",
       "4              0                1               0             0   \n",
       "\n",
       "   DeviceProtection  TechSupport  StreamingTV  StreamingMovies  Contract  \\\n",
       "0                 0            0            0                0         0   \n",
       "1                 2            0            0                0         1   \n",
       "2                 0            0            0                0         0   \n",
       "3                 2            2            0                0         1   \n",
       "4                 0            0            0                0         0   \n",
       "\n",
       "   PaperlessBilling  PaymentMethod  MonthlyCharges  TotalCharges  Churn  \n",
       "0                 1              2           29.85          2504      0  \n",
       "1                 0              3           56.95          1465      0  \n",
       "2                 1              3           53.85           156      1  \n",
       "3                 0              0           42.30          1399      0  \n",
       "4                 1              2           70.70           924      1  "
      ]
     },
     "execution_count": 26,
     "metadata": {},
     "output_type": "execute_result"
    }
   ],
   "source": [
    "df.head()"
   ]
  },
  {
   "cell_type": "code",
   "execution_count": 27,
   "id": "90829a9c-e5db-4e7e-ae80-ff738f3f2586",
   "metadata": {},
   "outputs": [
    {
     "data": {
      "text/html": [
       "<div>\n",
       "<style scoped>\n",
       "    .dataframe tbody tr th:only-of-type {\n",
       "        vertical-align: middle;\n",
       "    }\n",
       "\n",
       "    .dataframe tbody tr th {\n",
       "        vertical-align: top;\n",
       "    }\n",
       "\n",
       "    .dataframe thead th {\n",
       "        text-align: right;\n",
       "    }\n",
       "</style>\n",
       "<table border=\"1\" class=\"dataframe\">\n",
       "  <thead>\n",
       "    <tr style=\"text-align: right;\">\n",
       "      <th></th>\n",
       "      <th>gender</th>\n",
       "      <th>SeniorCitizen</th>\n",
       "      <th>Partner</th>\n",
       "      <th>Dependents</th>\n",
       "      <th>tenure</th>\n",
       "      <th>PhoneService</th>\n",
       "      <th>MultipleLines</th>\n",
       "      <th>InternetService</th>\n",
       "      <th>OnlineSecurity</th>\n",
       "      <th>OnlineBackup</th>\n",
       "      <th>DeviceProtection</th>\n",
       "      <th>TechSupport</th>\n",
       "      <th>StreamingTV</th>\n",
       "      <th>StreamingMovies</th>\n",
       "      <th>Contract</th>\n",
       "      <th>PaperlessBilling</th>\n",
       "      <th>PaymentMethod</th>\n",
       "      <th>MonthlyCharges</th>\n",
       "      <th>TotalCharges</th>\n",
       "      <th>Churn</th>\n",
       "    </tr>\n",
       "  </thead>\n",
       "  <tbody>\n",
       "    <tr>\n",
       "      <th>gender</th>\n",
       "      <td>1.000000</td>\n",
       "      <td>-0.001819</td>\n",
       "      <td>-0.001379</td>\n",
       "      <td>0.010349</td>\n",
       "      <td>0.005285</td>\n",
       "      <td>-0.007515</td>\n",
       "      <td>-0.006908</td>\n",
       "      <td>-0.002236</td>\n",
       "      <td>-0.014899</td>\n",
       "      <td>-0.011920</td>\n",
       "      <td>0.001348</td>\n",
       "      <td>-0.006695</td>\n",
       "      <td>-0.005624</td>\n",
       "      <td>-0.008920</td>\n",
       "      <td>0.000095</td>\n",
       "      <td>-0.011902</td>\n",
       "      <td>0.016942</td>\n",
       "      <td>-0.013779</td>\n",
       "      <td>-0.005087</td>\n",
       "      <td>-0.008545</td>\n",
       "    </tr>\n",
       "    <tr>\n",
       "      <th>SeniorCitizen</th>\n",
       "      <td>-0.001819</td>\n",
       "      <td>1.000000</td>\n",
       "      <td>0.016957</td>\n",
       "      <td>-0.210550</td>\n",
       "      <td>0.015683</td>\n",
       "      <td>0.008392</td>\n",
       "      <td>0.146287</td>\n",
       "      <td>-0.032160</td>\n",
       "      <td>-0.127937</td>\n",
       "      <td>-0.013355</td>\n",
       "      <td>-0.021124</td>\n",
       "      <td>-0.151007</td>\n",
       "      <td>0.031019</td>\n",
       "      <td>0.047088</td>\n",
       "      <td>-0.141820</td>\n",
       "      <td>0.156258</td>\n",
       "      <td>-0.038158</td>\n",
       "      <td>0.219874</td>\n",
       "      <td>0.036556</td>\n",
       "      <td>0.150541</td>\n",
       "    </tr>\n",
       "    <tr>\n",
       "      <th>Partner</th>\n",
       "      <td>-0.001379</td>\n",
       "      <td>0.016957</td>\n",
       "      <td>1.000000</td>\n",
       "      <td>0.452269</td>\n",
       "      <td>0.381912</td>\n",
       "      <td>0.018397</td>\n",
       "      <td>0.142717</td>\n",
       "      <td>0.000513</td>\n",
       "      <td>0.150610</td>\n",
       "      <td>0.153045</td>\n",
       "      <td>0.165614</td>\n",
       "      <td>0.126488</td>\n",
       "      <td>0.136679</td>\n",
       "      <td>0.129907</td>\n",
       "      <td>0.294094</td>\n",
       "      <td>-0.013957</td>\n",
       "      <td>-0.156232</td>\n",
       "      <td>0.097825</td>\n",
       "      <td>0.061571</td>\n",
       "      <td>-0.149982</td>\n",
       "    </tr>\n",
       "    <tr>\n",
       "      <th>Dependents</th>\n",
       "      <td>0.010349</td>\n",
       "      <td>-0.210550</td>\n",
       "      <td>0.452269</td>\n",
       "      <td>1.000000</td>\n",
       "      <td>0.163386</td>\n",
       "      <td>-0.001078</td>\n",
       "      <td>-0.024975</td>\n",
       "      <td>0.044030</td>\n",
       "      <td>0.151198</td>\n",
       "      <td>0.090231</td>\n",
       "      <td>0.079723</td>\n",
       "      <td>0.132530</td>\n",
       "      <td>0.046214</td>\n",
       "      <td>0.022088</td>\n",
       "      <td>0.240556</td>\n",
       "      <td>-0.110131</td>\n",
       "      <td>-0.041989</td>\n",
       "      <td>-0.112343</td>\n",
       "      <td>-0.005469</td>\n",
       "      <td>-0.163128</td>\n",
       "    </tr>\n",
       "    <tr>\n",
       "      <th>tenure</th>\n",
       "      <td>0.005285</td>\n",
       "      <td>0.015683</td>\n",
       "      <td>0.381912</td>\n",
       "      <td>0.163386</td>\n",
       "      <td>1.000000</td>\n",
       "      <td>0.007877</td>\n",
       "      <td>0.343673</td>\n",
       "      <td>-0.029835</td>\n",
       "      <td>0.327283</td>\n",
       "      <td>0.372434</td>\n",
       "      <td>0.372669</td>\n",
       "      <td>0.324729</td>\n",
       "      <td>0.290572</td>\n",
       "      <td>0.296785</td>\n",
       "      <td>0.676734</td>\n",
       "      <td>0.004823</td>\n",
       "      <td>-0.370087</td>\n",
       "      <td>0.246862</td>\n",
       "      <td>0.155539</td>\n",
       "      <td>-0.354049</td>\n",
       "    </tr>\n",
       "    <tr>\n",
       "      <th>PhoneService</th>\n",
       "      <td>-0.007515</td>\n",
       "      <td>0.008392</td>\n",
       "      <td>0.018397</td>\n",
       "      <td>-0.001078</td>\n",
       "      <td>0.007877</td>\n",
       "      <td>1.000000</td>\n",
       "      <td>-0.020504</td>\n",
       "      <td>0.387266</td>\n",
       "      <td>-0.014163</td>\n",
       "      <td>0.024040</td>\n",
       "      <td>0.004718</td>\n",
       "      <td>-0.018136</td>\n",
       "      <td>0.056393</td>\n",
       "      <td>0.043025</td>\n",
       "      <td>0.003019</td>\n",
       "      <td>0.016696</td>\n",
       "      <td>-0.005499</td>\n",
       "      <td>0.248033</td>\n",
       "      <td>0.082728</td>\n",
       "      <td>0.011691</td>\n",
       "    </tr>\n",
       "    <tr>\n",
       "      <th>MultipleLines</th>\n",
       "      <td>-0.006908</td>\n",
       "      <td>0.146287</td>\n",
       "      <td>0.142717</td>\n",
       "      <td>-0.024975</td>\n",
       "      <td>0.343673</td>\n",
       "      <td>-0.020504</td>\n",
       "      <td>1.000000</td>\n",
       "      <td>-0.108849</td>\n",
       "      <td>0.007306</td>\n",
       "      <td>0.117276</td>\n",
       "      <td>0.122614</td>\n",
       "      <td>0.010941</td>\n",
       "      <td>0.175403</td>\n",
       "      <td>0.181705</td>\n",
       "      <td>0.111029</td>\n",
       "      <td>0.165306</td>\n",
       "      <td>-0.176598</td>\n",
       "      <td>0.433905</td>\n",
       "      <td>0.115215</td>\n",
       "      <td>0.038043</td>\n",
       "    </tr>\n",
       "    <tr>\n",
       "      <th>InternetService</th>\n",
       "      <td>-0.002236</td>\n",
       "      <td>-0.032160</td>\n",
       "      <td>0.000513</td>\n",
       "      <td>0.044030</td>\n",
       "      <td>-0.029835</td>\n",
       "      <td>0.387266</td>\n",
       "      <td>-0.108849</td>\n",
       "      <td>1.000000</td>\n",
       "      <td>-0.028003</td>\n",
       "      <td>0.036735</td>\n",
       "      <td>0.045558</td>\n",
       "      <td>-0.025626</td>\n",
       "      <td>0.108190</td>\n",
       "      <td>0.097967</td>\n",
       "      <td>0.099579</td>\n",
       "      <td>-0.138166</td>\n",
       "      <td>0.084504</td>\n",
       "      <td>-0.322173</td>\n",
       "      <td>-0.055138</td>\n",
       "      <td>-0.047097</td>\n",
       "    </tr>\n",
       "    <tr>\n",
       "      <th>OnlineSecurity</th>\n",
       "      <td>-0.014899</td>\n",
       "      <td>-0.127937</td>\n",
       "      <td>0.150610</td>\n",
       "      <td>0.151198</td>\n",
       "      <td>0.327283</td>\n",
       "      <td>-0.014163</td>\n",
       "      <td>0.007306</td>\n",
       "      <td>-0.028003</td>\n",
       "      <td>1.000000</td>\n",
       "      <td>0.184942</td>\n",
       "      <td>0.175789</td>\n",
       "      <td>0.284875</td>\n",
       "      <td>0.044399</td>\n",
       "      <td>0.056313</td>\n",
       "      <td>0.373980</td>\n",
       "      <td>-0.157723</td>\n",
       "      <td>-0.096593</td>\n",
       "      <td>-0.053576</td>\n",
       "      <td>0.044003</td>\n",
       "      <td>-0.289050</td>\n",
       "    </tr>\n",
       "    <tr>\n",
       "      <th>OnlineBackup</th>\n",
       "      <td>-0.011920</td>\n",
       "      <td>-0.013355</td>\n",
       "      <td>0.153045</td>\n",
       "      <td>0.090231</td>\n",
       "      <td>0.372434</td>\n",
       "      <td>0.024040</td>\n",
       "      <td>0.117276</td>\n",
       "      <td>0.036735</td>\n",
       "      <td>0.184942</td>\n",
       "      <td>1.000000</td>\n",
       "      <td>0.187646</td>\n",
       "      <td>0.195581</td>\n",
       "      <td>0.147085</td>\n",
       "      <td>0.137083</td>\n",
       "      <td>0.280617</td>\n",
       "      <td>-0.012697</td>\n",
       "      <td>-0.125534</td>\n",
       "      <td>0.119943</td>\n",
       "      <td>0.092141</td>\n",
       "      <td>-0.195290</td>\n",
       "    </tr>\n",
       "    <tr>\n",
       "      <th>DeviceProtection</th>\n",
       "      <td>0.001348</td>\n",
       "      <td>-0.021124</td>\n",
       "      <td>0.165614</td>\n",
       "      <td>0.079723</td>\n",
       "      <td>0.372669</td>\n",
       "      <td>0.004718</td>\n",
       "      <td>0.122614</td>\n",
       "      <td>0.045558</td>\n",
       "      <td>0.175789</td>\n",
       "      <td>0.187646</td>\n",
       "      <td>1.000000</td>\n",
       "      <td>0.240476</td>\n",
       "      <td>0.275947</td>\n",
       "      <td>0.289309</td>\n",
       "      <td>0.350067</td>\n",
       "      <td>-0.037596</td>\n",
       "      <td>-0.136460</td>\n",
       "      <td>0.163984</td>\n",
       "      <td>0.107340</td>\n",
       "      <td>-0.177883</td>\n",
       "    </tr>\n",
       "    <tr>\n",
       "      <th>TechSupport</th>\n",
       "      <td>-0.006695</td>\n",
       "      <td>-0.151007</td>\n",
       "      <td>0.126488</td>\n",
       "      <td>0.132530</td>\n",
       "      <td>0.324729</td>\n",
       "      <td>-0.018136</td>\n",
       "      <td>0.010941</td>\n",
       "      <td>-0.025626</td>\n",
       "      <td>0.284875</td>\n",
       "      <td>0.195581</td>\n",
       "      <td>0.240476</td>\n",
       "      <td>1.000000</td>\n",
       "      <td>0.161168</td>\n",
       "      <td>0.162530</td>\n",
       "      <td>0.425072</td>\n",
       "      <td>-0.113617</td>\n",
       "      <td>-0.104544</td>\n",
       "      <td>-0.008237</td>\n",
       "      <td>0.059153</td>\n",
       "      <td>-0.282232</td>\n",
       "    </tr>\n",
       "    <tr>\n",
       "      <th>StreamingTV</th>\n",
       "      <td>-0.005624</td>\n",
       "      <td>0.031019</td>\n",
       "      <td>0.136679</td>\n",
       "      <td>0.046214</td>\n",
       "      <td>0.290572</td>\n",
       "      <td>0.056393</td>\n",
       "      <td>0.175403</td>\n",
       "      <td>0.108190</td>\n",
       "      <td>0.044399</td>\n",
       "      <td>0.147085</td>\n",
       "      <td>0.275947</td>\n",
       "      <td>0.161168</td>\n",
       "      <td>1.000000</td>\n",
       "      <td>0.435354</td>\n",
       "      <td>0.226826</td>\n",
       "      <td>0.097379</td>\n",
       "      <td>-0.104782</td>\n",
       "      <td>0.337156</td>\n",
       "      <td>0.139439</td>\n",
       "      <td>-0.036303</td>\n",
       "    </tr>\n",
       "    <tr>\n",
       "      <th>StreamingMovies</th>\n",
       "      <td>-0.008920</td>\n",
       "      <td>0.047088</td>\n",
       "      <td>0.129907</td>\n",
       "      <td>0.022088</td>\n",
       "      <td>0.296785</td>\n",
       "      <td>0.043025</td>\n",
       "      <td>0.181705</td>\n",
       "      <td>0.097967</td>\n",
       "      <td>0.056313</td>\n",
       "      <td>0.137083</td>\n",
       "      <td>0.289309</td>\n",
       "      <td>0.162530</td>\n",
       "      <td>0.435354</td>\n",
       "      <td>1.000000</td>\n",
       "      <td>0.232478</td>\n",
       "      <td>0.083901</td>\n",
       "      <td>-0.112009</td>\n",
       "      <td>0.335761</td>\n",
       "      <td>0.144961</td>\n",
       "      <td>-0.038802</td>\n",
       "    </tr>\n",
       "    <tr>\n",
       "      <th>Contract</th>\n",
       "      <td>0.000095</td>\n",
       "      <td>-0.141820</td>\n",
       "      <td>0.294094</td>\n",
       "      <td>0.240556</td>\n",
       "      <td>0.676734</td>\n",
       "      <td>0.003019</td>\n",
       "      <td>0.111029</td>\n",
       "      <td>0.099579</td>\n",
       "      <td>0.373980</td>\n",
       "      <td>0.280617</td>\n",
       "      <td>0.350067</td>\n",
       "      <td>0.425072</td>\n",
       "      <td>0.226826</td>\n",
       "      <td>0.232478</td>\n",
       "      <td>1.000000</td>\n",
       "      <td>-0.175475</td>\n",
       "      <td>-0.229636</td>\n",
       "      <td>-0.072739</td>\n",
       "      <td>0.110574</td>\n",
       "      <td>-0.396150</td>\n",
       "    </tr>\n",
       "    <tr>\n",
       "      <th>PaperlessBilling</th>\n",
       "      <td>-0.011902</td>\n",
       "      <td>0.156258</td>\n",
       "      <td>-0.013957</td>\n",
       "      <td>-0.110131</td>\n",
       "      <td>0.004823</td>\n",
       "      <td>0.016696</td>\n",
       "      <td>0.165306</td>\n",
       "      <td>-0.138166</td>\n",
       "      <td>-0.157723</td>\n",
       "      <td>-0.012697</td>\n",
       "      <td>-0.037596</td>\n",
       "      <td>-0.113617</td>\n",
       "      <td>0.097379</td>\n",
       "      <td>0.083901</td>\n",
       "      <td>-0.175475</td>\n",
       "      <td>1.000000</td>\n",
       "      <td>-0.061348</td>\n",
       "      <td>0.351930</td>\n",
       "      <td>0.099531</td>\n",
       "      <td>0.191454</td>\n",
       "    </tr>\n",
       "    <tr>\n",
       "      <th>PaymentMethod</th>\n",
       "      <td>0.016942</td>\n",
       "      <td>-0.038158</td>\n",
       "      <td>-0.156232</td>\n",
       "      <td>-0.041989</td>\n",
       "      <td>-0.370087</td>\n",
       "      <td>-0.005499</td>\n",
       "      <td>-0.176598</td>\n",
       "      <td>0.084504</td>\n",
       "      <td>-0.096593</td>\n",
       "      <td>-0.125534</td>\n",
       "      <td>-0.136460</td>\n",
       "      <td>-0.104544</td>\n",
       "      <td>-0.104782</td>\n",
       "      <td>-0.112009</td>\n",
       "      <td>-0.229636</td>\n",
       "      <td>-0.061348</td>\n",
       "      <td>1.000000</td>\n",
       "      <td>-0.192500</td>\n",
       "      <td>-0.065954</td>\n",
       "      <td>0.107852</td>\n",
       "    </tr>\n",
       "    <tr>\n",
       "      <th>MonthlyCharges</th>\n",
       "      <td>-0.013779</td>\n",
       "      <td>0.219874</td>\n",
       "      <td>0.097825</td>\n",
       "      <td>-0.112343</td>\n",
       "      <td>0.246862</td>\n",
       "      <td>0.248033</td>\n",
       "      <td>0.433905</td>\n",
       "      <td>-0.322173</td>\n",
       "      <td>-0.053576</td>\n",
       "      <td>0.119943</td>\n",
       "      <td>0.163984</td>\n",
       "      <td>-0.008237</td>\n",
       "      <td>0.337156</td>\n",
       "      <td>0.335761</td>\n",
       "      <td>-0.072739</td>\n",
       "      <td>0.351930</td>\n",
       "      <td>-0.192500</td>\n",
       "      <td>1.000000</td>\n",
       "      <td>0.278686</td>\n",
       "      <td>0.192858</td>\n",
       "    </tr>\n",
       "    <tr>\n",
       "      <th>TotalCharges</th>\n",
       "      <td>-0.005087</td>\n",
       "      <td>0.036556</td>\n",
       "      <td>0.061571</td>\n",
       "      <td>-0.005469</td>\n",
       "      <td>0.155539</td>\n",
       "      <td>0.082728</td>\n",
       "      <td>0.115215</td>\n",
       "      <td>-0.055138</td>\n",
       "      <td>0.044003</td>\n",
       "      <td>0.092141</td>\n",
       "      <td>0.107340</td>\n",
       "      <td>0.059153</td>\n",
       "      <td>0.139439</td>\n",
       "      <td>0.144961</td>\n",
       "      <td>0.110574</td>\n",
       "      <td>0.099531</td>\n",
       "      <td>-0.065954</td>\n",
       "      <td>0.278686</td>\n",
       "      <td>1.000000</td>\n",
       "      <td>0.012891</td>\n",
       "    </tr>\n",
       "    <tr>\n",
       "      <th>Churn</th>\n",
       "      <td>-0.008545</td>\n",
       "      <td>0.150541</td>\n",
       "      <td>-0.149982</td>\n",
       "      <td>-0.163128</td>\n",
       "      <td>-0.354049</td>\n",
       "      <td>0.011691</td>\n",
       "      <td>0.038043</td>\n",
       "      <td>-0.047097</td>\n",
       "      <td>-0.289050</td>\n",
       "      <td>-0.195290</td>\n",
       "      <td>-0.177883</td>\n",
       "      <td>-0.282232</td>\n",
       "      <td>-0.036303</td>\n",
       "      <td>-0.038802</td>\n",
       "      <td>-0.396150</td>\n",
       "      <td>0.191454</td>\n",
       "      <td>0.107852</td>\n",
       "      <td>0.192858</td>\n",
       "      <td>0.012891</td>\n",
       "      <td>1.000000</td>\n",
       "    </tr>\n",
       "  </tbody>\n",
       "</table>\n",
       "</div>"
      ],
      "text/plain": [
       "                    gender  SeniorCitizen   Partner  Dependents    tenure  \\\n",
       "gender            1.000000      -0.001819 -0.001379    0.010349  0.005285   \n",
       "SeniorCitizen    -0.001819       1.000000  0.016957   -0.210550  0.015683   \n",
       "Partner          -0.001379       0.016957  1.000000    0.452269  0.381912   \n",
       "Dependents        0.010349      -0.210550  0.452269    1.000000  0.163386   \n",
       "tenure            0.005285       0.015683  0.381912    0.163386  1.000000   \n",
       "PhoneService     -0.007515       0.008392  0.018397   -0.001078  0.007877   \n",
       "MultipleLines    -0.006908       0.146287  0.142717   -0.024975  0.343673   \n",
       "InternetService  -0.002236      -0.032160  0.000513    0.044030 -0.029835   \n",
       "OnlineSecurity   -0.014899      -0.127937  0.150610    0.151198  0.327283   \n",
       "OnlineBackup     -0.011920      -0.013355  0.153045    0.090231  0.372434   \n",
       "DeviceProtection  0.001348      -0.021124  0.165614    0.079723  0.372669   \n",
       "TechSupport      -0.006695      -0.151007  0.126488    0.132530  0.324729   \n",
       "StreamingTV      -0.005624       0.031019  0.136679    0.046214  0.290572   \n",
       "StreamingMovies  -0.008920       0.047088  0.129907    0.022088  0.296785   \n",
       "Contract          0.000095      -0.141820  0.294094    0.240556  0.676734   \n",
       "PaperlessBilling -0.011902       0.156258 -0.013957   -0.110131  0.004823   \n",
       "PaymentMethod     0.016942      -0.038158 -0.156232   -0.041989 -0.370087   \n",
       "MonthlyCharges   -0.013779       0.219874  0.097825   -0.112343  0.246862   \n",
       "TotalCharges     -0.005087       0.036556  0.061571   -0.005469  0.155539   \n",
       "Churn            -0.008545       0.150541 -0.149982   -0.163128 -0.354049   \n",
       "\n",
       "                  PhoneService  MultipleLines  InternetService  \\\n",
       "gender               -0.007515      -0.006908        -0.002236   \n",
       "SeniorCitizen         0.008392       0.146287        -0.032160   \n",
       "Partner               0.018397       0.142717         0.000513   \n",
       "Dependents           -0.001078      -0.024975         0.044030   \n",
       "tenure                0.007877       0.343673        -0.029835   \n",
       "PhoneService          1.000000      -0.020504         0.387266   \n",
       "MultipleLines        -0.020504       1.000000        -0.108849   \n",
       "InternetService       0.387266      -0.108849         1.000000   \n",
       "OnlineSecurity       -0.014163       0.007306        -0.028003   \n",
       "OnlineBackup          0.024040       0.117276         0.036735   \n",
       "DeviceProtection      0.004718       0.122614         0.045558   \n",
       "TechSupport          -0.018136       0.010941        -0.025626   \n",
       "StreamingTV           0.056393       0.175403         0.108190   \n",
       "StreamingMovies       0.043025       0.181705         0.097967   \n",
       "Contract              0.003019       0.111029         0.099579   \n",
       "PaperlessBilling      0.016696       0.165306        -0.138166   \n",
       "PaymentMethod        -0.005499      -0.176598         0.084504   \n",
       "MonthlyCharges        0.248033       0.433905        -0.322173   \n",
       "TotalCharges          0.082728       0.115215        -0.055138   \n",
       "Churn                 0.011691       0.038043        -0.047097   \n",
       "\n",
       "                  OnlineSecurity  OnlineBackup  DeviceProtection  TechSupport  \\\n",
       "gender                 -0.014899     -0.011920          0.001348    -0.006695   \n",
       "SeniorCitizen          -0.127937     -0.013355         -0.021124    -0.151007   \n",
       "Partner                 0.150610      0.153045          0.165614     0.126488   \n",
       "Dependents              0.151198      0.090231          0.079723     0.132530   \n",
       "tenure                  0.327283      0.372434          0.372669     0.324729   \n",
       "PhoneService           -0.014163      0.024040          0.004718    -0.018136   \n",
       "MultipleLines           0.007306      0.117276          0.122614     0.010941   \n",
       "InternetService        -0.028003      0.036735          0.045558    -0.025626   \n",
       "OnlineSecurity          1.000000      0.184942          0.175789     0.284875   \n",
       "OnlineBackup            0.184942      1.000000          0.187646     0.195581   \n",
       "DeviceProtection        0.175789      0.187646          1.000000     0.240476   \n",
       "TechSupport             0.284875      0.195581          0.240476     1.000000   \n",
       "StreamingTV             0.044399      0.147085          0.275947     0.161168   \n",
       "StreamingMovies         0.056313      0.137083          0.289309     0.162530   \n",
       "Contract                0.373980      0.280617          0.350067     0.425072   \n",
       "PaperlessBilling       -0.157723     -0.012697         -0.037596    -0.113617   \n",
       "PaymentMethod          -0.096593     -0.125534         -0.136460    -0.104544   \n",
       "MonthlyCharges         -0.053576      0.119943          0.163984    -0.008237   \n",
       "TotalCharges            0.044003      0.092141          0.107340     0.059153   \n",
       "Churn                  -0.289050     -0.195290         -0.177883    -0.282232   \n",
       "\n",
       "                  StreamingTV  StreamingMovies  Contract  PaperlessBilling  \\\n",
       "gender              -0.005624        -0.008920  0.000095         -0.011902   \n",
       "SeniorCitizen        0.031019         0.047088 -0.141820          0.156258   \n",
       "Partner              0.136679         0.129907  0.294094         -0.013957   \n",
       "Dependents           0.046214         0.022088  0.240556         -0.110131   \n",
       "tenure               0.290572         0.296785  0.676734          0.004823   \n",
       "PhoneService         0.056393         0.043025  0.003019          0.016696   \n",
       "MultipleLines        0.175403         0.181705  0.111029          0.165306   \n",
       "InternetService      0.108190         0.097967  0.099579         -0.138166   \n",
       "OnlineSecurity       0.044399         0.056313  0.373980         -0.157723   \n",
       "OnlineBackup         0.147085         0.137083  0.280617         -0.012697   \n",
       "DeviceProtection     0.275947         0.289309  0.350067         -0.037596   \n",
       "TechSupport          0.161168         0.162530  0.425072         -0.113617   \n",
       "StreamingTV          1.000000         0.435354  0.226826          0.097379   \n",
       "StreamingMovies      0.435354         1.000000  0.232478          0.083901   \n",
       "Contract             0.226826         0.232478  1.000000         -0.175475   \n",
       "PaperlessBilling     0.097379         0.083901 -0.175475          1.000000   \n",
       "PaymentMethod       -0.104782        -0.112009 -0.229636         -0.061348   \n",
       "MonthlyCharges       0.337156         0.335761 -0.072739          0.351930   \n",
       "TotalCharges         0.139439         0.144961  0.110574          0.099531   \n",
       "Churn               -0.036303        -0.038802 -0.396150          0.191454   \n",
       "\n",
       "                  PaymentMethod  MonthlyCharges  TotalCharges     Churn  \n",
       "gender                 0.016942       -0.013779     -0.005087 -0.008545  \n",
       "SeniorCitizen         -0.038158        0.219874      0.036556  0.150541  \n",
       "Partner               -0.156232        0.097825      0.061571 -0.149982  \n",
       "Dependents            -0.041989       -0.112343     -0.005469 -0.163128  \n",
       "tenure                -0.370087        0.246862      0.155539 -0.354049  \n",
       "PhoneService          -0.005499        0.248033      0.082728  0.011691  \n",
       "MultipleLines         -0.176598        0.433905      0.115215  0.038043  \n",
       "InternetService        0.084504       -0.322173     -0.055138 -0.047097  \n",
       "OnlineSecurity        -0.096593       -0.053576      0.044003 -0.289050  \n",
       "OnlineBackup          -0.125534        0.119943      0.092141 -0.195290  \n",
       "DeviceProtection      -0.136460        0.163984      0.107340 -0.177883  \n",
       "TechSupport           -0.104544       -0.008237      0.059153 -0.282232  \n",
       "StreamingTV           -0.104782        0.337156      0.139439 -0.036303  \n",
       "StreamingMovies       -0.112009        0.335761      0.144961 -0.038802  \n",
       "Contract              -0.229636       -0.072739      0.110574 -0.396150  \n",
       "PaperlessBilling      -0.061348        0.351930      0.099531  0.191454  \n",
       "PaymentMethod          1.000000       -0.192500     -0.065954  0.107852  \n",
       "MonthlyCharges        -0.192500        1.000000      0.278686  0.192858  \n",
       "TotalCharges          -0.065954        0.278686      1.000000  0.012891  \n",
       "Churn                  0.107852        0.192858      0.012891  1.000000  "
      ]
     },
     "execution_count": 27,
     "metadata": {},
     "output_type": "execute_result"
    }
   ],
   "source": [
    "df.corr()"
   ]
  },
  {
   "cell_type": "code",
   "execution_count": 28,
   "id": "3ee4d948-8aff-4cb2-a8f9-ca27137d6e49",
   "metadata": {},
   "outputs": [
    {
     "name": "stdout",
     "output_type": "stream",
     "text": [
      "gender has correlation with Churn as -0.008544643224946453\n",
      "SeniorCitizen has correlation with Churn as 0.15054105341568022\n",
      "Partner has correlation with Churn as -0.14998192562005935\n",
      "Dependents has correlation with Churn as -0.16312843938822022\n",
      "tenure has correlation with Churn as -0.3540493589532514\n",
      "PhoneService has correlation with Churn as 0.011691398865421547\n",
      "MultipleLines has correlation with Churn as 0.038043274356214206\n",
      "InternetService has correlation with Churn as -0.04709716459089944\n",
      "OnlineSecurity has correlation with Churn as -0.2890501761175914\n",
      "OnlineBackup has correlation with Churn as -0.19529020856666396\n",
      "DeviceProtection has correlation with Churn as -0.17788319529016064\n",
      "TechSupport has correlation with Churn as -0.2822324866026612\n",
      "StreamingTV has correlation with Churn as -0.0363027215124606\n",
      "StreamingMovies has correlation with Churn as -0.03880174840533754\n",
      "Contract has correlation with Churn as -0.3961495329936538\n",
      "PaperlessBilling has correlation with Churn as 0.19145432108004581\n",
      "PaymentMethod has correlation with Churn as 0.10785201511046784\n",
      "MonthlyCharges has correlation with Churn as 0.1928582184700789\n",
      "TotalCharges has correlation with Churn as 0.012890845211450987\n",
      "Churn has correlation with Churn as 1.0\n"
     ]
    }
   ],
   "source": [
    "# I cant understand the correlation with my dependent variable so \n",
    "# I will use easy method\n",
    "for cols in df.columns:\n",
    "    if df[cols].dtype!= 'object':\n",
    "        corr = df[cols].corr(df['Churn'])\n",
    "        print(f'{cols} has correlation with Churn as {corr}')"
   ]
  },
  {
   "cell_type": "markdown",
   "id": "63c1f8f0-0428-424b-aed3-dfaac014d634",
   "metadata": {},
   "source": [
    "## Model Building\n",
    "#### some rules\n",
    "##### Accuracy : higher the accuracy better the model\n",
    "##### TPR(recalll) : higher the recall better the model\n",
    "##### FPR lower the fpr better the model\n",
    "##### Precision : higher the precision better the model\n",
    "##### F1 : Higher the F! better the model"
   ]
  },
  {
   "cell_type": "code",
   "execution_count": 29,
   "id": "3383cec1-e901-41e6-8e43-c46697a8c492",
   "metadata": {},
   "outputs": [
    {
     "data": {
      "text/plain": [
       "0    5163\n",
       "1    1869\n",
       "Name: Churn, dtype: int64"
      ]
     },
     "execution_count": 29,
     "metadata": {},
     "output_type": "execute_result"
    }
   ],
   "source": [
    "df.Churn.value_counts()"
   ]
  },
  {
   "cell_type": "code",
   "execution_count": 30,
   "id": "53a5f952-939e-4f0d-85ee-4e033fa4251a",
   "metadata": {},
   "outputs": [
    {
     "data": {
      "text/plain": [
       "0.26578498293515357"
      ]
     },
     "execution_count": 30,
     "metadata": {},
     "output_type": "execute_result"
    }
   ],
   "source": [
    "1869/(5163+1869)  # as we can see this data is huge imbalanced"
   ]
  },
  {
   "cell_type": "code",
   "execution_count": 31,
   "id": "6c81332c-fa8d-4a27-a4bb-aa6762dbf45b",
   "metadata": {},
   "outputs": [],
   "source": [
    "# we need to balanced this dataset\n",
    "from sklearn.model_selection import train_test_split\n",
    "stratified_x = df.iloc[::,:-1]\n",
    "stratified_y = df.iloc[::,-1]\n",
    "train_X , test_X , train_y , test_y = train_test_split(stratified_x , stratified_y , stratify=stratified_y , random_state=0 , test_size = 0.2)"
   ]
  },
  {
   "cell_type": "code",
   "execution_count": 32,
   "id": "4c094f25-e0d3-49cf-b000-95de6eab8f4f",
   "metadata": {},
   "outputs": [
    {
     "data": {
      "text/plain": [
       "0    4130\n",
       "1    1495\n",
       "Name: Churn, dtype: int64"
      ]
     },
     "execution_count": 32,
     "metadata": {},
     "output_type": "execute_result"
    }
   ],
   "source": [
    "train_y.value_counts()"
   ]
  },
  {
   "cell_type": "code",
   "execution_count": 33,
   "id": "57018a22-527c-4e9a-b793-532e969a1c0c",
   "metadata": {},
   "outputs": [
    {
     "data": {
      "text/plain": [
       "0    1033\n",
       "1     374\n",
       "Name: Churn, dtype: int64"
      ]
     },
     "execution_count": 33,
     "metadata": {},
     "output_type": "execute_result"
    }
   ],
   "source": [
    "test_y.value_counts()"
   ]
  },
  {
   "cell_type": "code",
   "execution_count": 34,
   "id": "527ae860-d9f6-4fbe-86ed-382306d87102",
   "metadata": {},
   "outputs": [
    {
     "data": {
      "text/plain": [
       "0.36205227492739595"
      ]
     },
     "execution_count": 34,
     "metadata": {},
     "output_type": "execute_result"
    }
   ],
   "source": [
    "374/1033 #test_y ratio"
   ]
  },
  {
   "cell_type": "code",
   "execution_count": 35,
   "id": "e6ddd83b-3a1a-499d-821d-98dab11bc031",
   "metadata": {},
   "outputs": [
    {
     "data": {
      "text/plain": [
       "0.3619854721549637"
      ]
     },
     "execution_count": 35,
     "metadata": {},
     "output_type": "execute_result"
    }
   ],
   "source": [
    "1495/4130 # train-y ratio"
   ]
  },
  {
   "cell_type": "markdown",
   "id": "c8877fe8-0084-4338-a9e6-ae6e2ef0e57e",
   "metadata": {},
   "source": [
    "So our data is balanced now"
   ]
  },
  {
   "cell_type": "code",
   "execution_count": 36,
   "id": "580a4aed-21fc-414b-b20e-a2b42c388a5e",
   "metadata": {},
   "outputs": [],
   "source": [
    "num_cols = [\"tenure\", 'MonthlyCharges', 'TotalCharges']"
   ]
  },
  {
   "cell_type": "code",
   "execution_count": 37,
   "id": "0b2191ac-155a-485c-9873-83d3f815dbec",
   "metadata": {},
   "outputs": [
    {
     "name": "stdout",
     "output_type": "stream",
     "text": [
      "Mean 32.36977777777778\n",
      "std 24.49887818657871\n"
     ]
    }
   ],
   "source": [
    "print('Mean',train_X['tenure'].mean())\n",
    "print('std',train_X['tenure'].std())"
   ]
  },
  {
   "cell_type": "code",
   "execution_count": 38,
   "id": "d5330a26-b01e-4826-8b9c-1a510b652fc1",
   "metadata": {},
   "outputs": [
    {
     "name": "stdout",
     "output_type": "stream",
     "text": [
      "mean 64.91769777777789\n",
      "std 30.01338317441682\n"
     ]
    }
   ],
   "source": [
    "print('mean',train_X['MonthlyCharges'].mean())\n",
    "print('std',train_X['MonthlyCharges'].std())"
   ]
  },
  {
   "cell_type": "code",
   "execution_count": 39,
   "id": "11ea540c-9af5-451d-9c45-abea69191f2e",
   "metadata": {},
   "outputs": [
    {
     "name": "stdout",
     "output_type": "stream",
     "text": [
      "mean 3257.2028444444445\n",
      "std 1886.4399512895216\n"
     ]
    }
   ],
   "source": [
    "print('mean',train_X['TotalCharges'].mean())\n",
    "print('std',train_X['TotalCharges'].std())"
   ]
  },
  {
   "cell_type": "code",
   "execution_count": 40,
   "id": "14f535b6-0aba-4feb-a010-3efb836c1db6",
   "metadata": {},
   "outputs": [],
   "source": [
    "from sklearn.preprocessing import StandardScaler  # mean = 0 , std = 1\n",
    "scaler = StandardScaler()\n",
    "train_X[num_cols] = scaler.fit_transform(train_X[num_cols])\n",
    "test_X[num_cols] = scaler.fit_transform(test_X[num_cols])"
   ]
  },
  {
   "cell_type": "code",
   "execution_count": 41,
   "id": "c580c234-7807-456f-a6b1-eb76a76d7734",
   "metadata": {},
   "outputs": [
    {
     "data": {
      "text/plain": [
       "1.0000889007424973"
      ]
     },
     "execution_count": 41,
     "metadata": {},
     "output_type": "execute_result"
    }
   ],
   "source": [
    "train_X['MonthlyCharges'].std()  # it means standard scaler has been done succefully"
   ]
  },
  {
   "cell_type": "markdown",
   "id": "a6f4efde-b7f1-4a1b-ac54-de8e96dca2a1",
   "metadata": {},
   "source": [
    "## Logistic Regression"
   ]
  },
  {
   "cell_type": "code",
   "execution_count": 42,
   "id": "ec1446d0-5ed6-4bc8-9d29-19a904005605",
   "metadata": {},
   "outputs": [
    {
     "data": {
      "text/plain": [
       "array([[938,  95],\n",
       "       [172, 202]], dtype=int64)"
      ]
     },
     "execution_count": 42,
     "metadata": {},
     "output_type": "execute_result"
    }
   ],
   "source": [
    "from sklearn.linear_model import LogisticRegression\n",
    "lr = LogisticRegression()\n",
    "lr.fit(train_X , train_y)\n",
    "pred_y = lr.predict(test_X)\n",
    "from sklearn.metrics import confusion_matrix , accuracy_score ,precision_score,roc_auc_score,f1_score,recall_score\n",
    "confusion_matrix(test_y , pred_y)"
   ]
  },
  {
   "cell_type": "code",
   "execution_count": 43,
   "id": "dbe1768b-b5d9-4f61-bc3e-d12a7082ec69",
   "metadata": {},
   "outputs": [
    {
     "name": "stdout",
     "output_type": "stream",
     "text": [
      "accuracy : 0.8102345415778252\n",
      "precision: 0.6801346801346801\n",
      "roc_curve: 0.7240709009116275\n",
      "f1_score: 0.6020864381520119\n"
     ]
    }
   ],
   "source": [
    "w = accuracy_score(test_y , pred_y)\n",
    "x = precision_score(test_y , pred_y)\n",
    "y = roc_auc_score(test_y , pred_y)\n",
    "z = f1_score(test_y , pred_y)\n",
    "print('accuracy :',w)\n",
    "print('precision:',x)\n",
    "print('roc_curve:',y)\n",
    "print('f1_score:',z)"
   ]
  },
  {
   "cell_type": "code",
   "execution_count": 44,
   "id": "95da71e9-ae58-4c05-b4de-5f592711369f",
   "metadata": {},
   "outputs": [
    {
     "data": {
      "text/plain": [
       "0.7240709009116275"
      ]
     },
     "execution_count": 44,
     "metadata": {},
     "output_type": "execute_result"
    }
   ],
   "source": [
    "roc_auc_score(test_y , pred_y)"
   ]
  },
  {
   "cell_type": "code",
   "execution_count": 45,
   "id": "f4c46463-3fc0-46c8-ab93-bf28f403f40e",
   "metadata": {},
   "outputs": [
    {
     "name": "stdout",
     "output_type": "stream",
     "text": [
      "              precision    recall  f1-score   support\n",
      "\n",
      "           0       0.85      0.91      0.88      1033\n",
      "           1       0.68      0.54      0.60       374\n",
      "\n",
      "    accuracy                           0.81      1407\n",
      "   macro avg       0.76      0.72      0.74      1407\n",
      "weighted avg       0.80      0.81      0.80      1407\n",
      "\n"
     ]
    },
    {
     "data": {
      "image/png": "[encoded data removed]",
      "text/plain": [
       "<Figure size 432x288 with 2 Axes>"
      ]
     },
     "metadata": {},
     "output_type": "display_data"
    }
   ],
   "source": [
    "from sklearn.metrics import classification_report\n",
    "print(classification_report(test_y , pred_y))\n",
    "sns.heatmap(confusion_matrix(test_y , pred_y),\n",
    "                annot=True,fmt = \"d\",linecolor=\"k\",linewidths=3)\n",
    "    \n",
    "plt.title(\"LOGISTIC REGRESSION CLASSIFIER CONFUSION MATRIX\",fontsize=14)\n",
    "plt.show()"
   ]
  },
  {
   "cell_type": "code",
   "execution_count": 46,
   "id": "a6cd2ca2-1aaa-4d60-b1ac-fbb0ab3d845d",
   "metadata": {
    "collapsed": true,
    "jupyter": {
     "outputs_hidden": true
    },
    "tags": []
   },
   "outputs": [
    {
     "name": "stderr",
     "output_type": "stream",
     "text": [
      "C:\\Users\\Asus\\anaconda3\\lib\\site-packages\\sklearn\\model_selection\\_validation.py:372: FitFailedWarning: \n",
      "40 fits failed out of a total of 75.\n",
      "The score on these train-test partitions for these parameters will be set to nan.\n",
      "If these failures are not expected, you can try to debug them by setting error_score='raise'.\n",
      "\n",
      "Below are more details about the failures:\n",
      "--------------------------------------------------------------------------------\n",
      "5 fits failed with the following error:\n",
      "Traceback (most recent call last):\n",
      "  File \"C:\\Users\\Asus\\anaconda3\\lib\\site-packages\\sklearn\\model_selection\\_validation.py\", line 680, in _fit_and_score\n",
      "    estimator.fit(X_train, y_train, **fit_params)\n",
      "  File \"C:\\Users\\Asus\\anaconda3\\lib\\site-packages\\sklearn\\linear_model\\_logistic.py\", line 1461, in fit\n",
      "    solver = _check_solver(self.solver, self.penalty, self.dual)\n",
      "  File \"C:\\Users\\Asus\\anaconda3\\lib\\site-packages\\sklearn\\linear_model\\_logistic.py\", line 447, in _check_solver\n",
      "    raise ValueError(\n",
      "ValueError: Solver newton-cg supports only 'l2' or 'none' penalties, got elasticnet penalty.\n",
      "\n",
      "--------------------------------------------------------------------------------\n",
      "5 fits failed with the following error:\n",
      "Traceback (most recent call last):\n",
      "  File \"C:\\Users\\Asus\\anaconda3\\lib\\site-packages\\sklearn\\model_selection\\_validation.py\", line 680, in _fit_and_score\n",
      "    estimator.fit(X_train, y_train, **fit_params)\n",
      "  File \"C:\\Users\\Asus\\anaconda3\\lib\\site-packages\\sklearn\\linear_model\\_logistic.py\", line 1461, in fit\n",
      "    solver = _check_solver(self.solver, self.penalty, self.dual)\n",
      "  File \"C:\\Users\\Asus\\anaconda3\\lib\\site-packages\\sklearn\\linear_model\\_logistic.py\", line 447, in _check_solver\n",
      "    raise ValueError(\n",
      "ValueError: Solver lbfgs supports only 'l2' or 'none' penalties, got elasticnet penalty.\n",
      "\n",
      "--------------------------------------------------------------------------------\n",
      "5 fits failed with the following error:\n",
      "Traceback (most recent call last):\n",
      "  File \"C:\\Users\\Asus\\anaconda3\\lib\\site-packages\\sklearn\\model_selection\\_validation.py\", line 680, in _fit_and_score\n",
      "    estimator.fit(X_train, y_train, **fit_params)\n",
      "  File \"C:\\Users\\Asus\\anaconda3\\lib\\site-packages\\sklearn\\linear_model\\_logistic.py\", line 1461, in fit\n",
      "    solver = _check_solver(self.solver, self.penalty, self.dual)\n",
      "  File \"C:\\Users\\Asus\\anaconda3\\lib\\site-packages\\sklearn\\linear_model\\_logistic.py\", line 457, in _check_solver\n",
      "    raise ValueError(\n",
      "ValueError: Only 'saga' solver supports elasticnet penalty, got solver=liblinear.\n",
      "\n",
      "--------------------------------------------------------------------------------\n",
      "5 fits failed with the following error:\n",
      "Traceback (most recent call last):\n",
      "  File \"C:\\Users\\Asus\\anaconda3\\lib\\site-packages\\sklearn\\model_selection\\_validation.py\", line 680, in _fit_and_score\n",
      "    estimator.fit(X_train, y_train, **fit_params)\n",
      "  File \"C:\\Users\\Asus\\anaconda3\\lib\\site-packages\\sklearn\\linear_model\\_logistic.py\", line 1461, in fit\n",
      "    solver = _check_solver(self.solver, self.penalty, self.dual)\n",
      "  File \"C:\\Users\\Asus\\anaconda3\\lib\\site-packages\\sklearn\\linear_model\\_logistic.py\", line 447, in _check_solver\n",
      "    raise ValueError(\n",
      "ValueError: Solver sag supports only 'l2' or 'none' penalties, got elasticnet penalty.\n",
      "\n",
      "--------------------------------------------------------------------------------\n",
      "5 fits failed with the following error:\n",
      "Traceback (most recent call last):\n",
      "  File \"C:\\Users\\Asus\\anaconda3\\lib\\site-packages\\sklearn\\model_selection\\_validation.py\", line 680, in _fit_and_score\n",
      "    estimator.fit(X_train, y_train, **fit_params)\n",
      "  File \"C:\\Users\\Asus\\anaconda3\\lib\\site-packages\\sklearn\\linear_model\\_logistic.py\", line 1471, in fit\n",
      "    raise ValueError(\n",
      "ValueError: l1_ratio must be between 0 and 1; got (l1_ratio=None)\n",
      "\n",
      "--------------------------------------------------------------------------------\n",
      "5 fits failed with the following error:\n",
      "Traceback (most recent call last):\n",
      "  File \"C:\\Users\\Asus\\anaconda3\\lib\\site-packages\\sklearn\\model_selection\\_validation.py\", line 680, in _fit_and_score\n",
      "    estimator.fit(X_train, y_train, **fit_params)\n",
      "  File \"C:\\Users\\Asus\\anaconda3\\lib\\site-packages\\sklearn\\linear_model\\_logistic.py\", line 1461, in fit\n",
      "    solver = _check_solver(self.solver, self.penalty, self.dual)\n",
      "  File \"C:\\Users\\Asus\\anaconda3\\lib\\site-packages\\sklearn\\linear_model\\_logistic.py\", line 447, in _check_solver\n",
      "    raise ValueError(\n",
      "ValueError: Solver newton-cg supports only 'l2' or 'none' penalties, got l1 penalty.\n",
      "\n",
      "--------------------------------------------------------------------------------\n",
      "5 fits failed with the following error:\n",
      "Traceback (most recent call last):\n",
      "  File \"C:\\Users\\Asus\\anaconda3\\lib\\site-packages\\sklearn\\model_selection\\_validation.py\", line 680, in _fit_and_score\n",
      "    estimator.fit(X_train, y_train, **fit_params)\n",
      "  File \"C:\\Users\\Asus\\anaconda3\\lib\\site-packages\\sklearn\\linear_model\\_logistic.py\", line 1461, in fit\n",
      "    solver = _check_solver(self.solver, self.penalty, self.dual)\n",
      "  File \"C:\\Users\\Asus\\anaconda3\\lib\\site-packages\\sklearn\\linear_model\\_logistic.py\", line 447, in _check_solver\n",
      "    raise ValueError(\n",
      "ValueError: Solver lbfgs supports only 'l2' or 'none' penalties, got l1 penalty.\n",
      "\n",
      "--------------------------------------------------------------------------------\n",
      "5 fits failed with the following error:\n",
      "Traceback (most recent call last):\n",
      "  File \"C:\\Users\\Asus\\anaconda3\\lib\\site-packages\\sklearn\\model_selection\\_validation.py\", line 680, in _fit_and_score\n",
      "    estimator.fit(X_train, y_train, **fit_params)\n",
      "  File \"C:\\Users\\Asus\\anaconda3\\lib\\site-packages\\sklearn\\linear_model\\_logistic.py\", line 1461, in fit\n",
      "    solver = _check_solver(self.solver, self.penalty, self.dual)\n",
      "  File \"C:\\Users\\Asus\\anaconda3\\lib\\site-packages\\sklearn\\linear_model\\_logistic.py\", line 447, in _check_solver\n",
      "    raise ValueError(\n",
      "ValueError: Solver sag supports only 'l2' or 'none' penalties, got l1 penalty.\n",
      "\n",
      "  warnings.warn(some_fits_failed_message, FitFailedWarning)\n",
      "C:\\Users\\Asus\\anaconda3\\lib\\site-packages\\sklearn\\model_selection\\_search.py:969: UserWarning: One or more of the test scores are non-finite: [       nan        nan        nan        nan        nan        nan\n",
      "        nan 0.80231111        nan 0.80284444 0.80266667 0.80266667\n",
      " 0.80231111 0.80266667 0.80266667]\n",
      "  warnings.warn(\n"
     ]
    },
    {
     "data": {
      "text/plain": [
       "GridSearchCV(estimator=LogisticRegression(),\n",
       "             param_grid={'penalty': ['elasticnet', 'l1', 'l2'],\n",
       "                         'solver': ['newton-cg', 'lbfgs', 'liblinear', 'sag',\n",
       "                                    'saga']})"
      ]
     },
     "execution_count": 46,
     "metadata": {},
     "output_type": "execute_result"
    }
   ],
   "source": [
    "# CROSS VALIDATIN OF LOGITIC REGRESSION\n",
    "lr_grid = {'solver' :['newton-cg','lbfgs','liblinear','sag','saga'],\n",
    "           'penalty':['elasticnet','l1','l2']}\n",
    "from sklearn.model_selection import GridSearchCV\n",
    "grid_lr = GridSearchCV(lr , param_grid = lr_grid)\n",
    "grid_lr.fit(train_X , train_y)\n",
    "                      "
   ]
  },
  {
   "cell_type": "code",
   "execution_count": 47,
   "id": "1cf68d02-8a0d-46a2-a06e-cd5081bb2289",
   "metadata": {},
   "outputs": [
    {
     "data": {
      "text/plain": [
       "{'penalty': 'l1', 'solver': 'saga'}"
      ]
     },
     "execution_count": 47,
     "metadata": {},
     "output_type": "execute_result"
    }
   ],
   "source": [
    "grid_lr.best_params_"
   ]
  },
  {
   "cell_type": "code",
   "execution_count": 48,
   "id": "8f1757b8-1967-421c-aa75-77515f6f84f5",
   "metadata": {},
   "outputs": [
    {
     "data": {
      "text/plain": [
       "array([[940,  93],\n",
       "       [172, 202]], dtype=int64)"
      ]
     },
     "execution_count": 48,
     "metadata": {},
     "output_type": "execute_result"
    }
   ],
   "source": [
    "lr = LogisticRegression(penalty = 'l1',solver='saga')\n",
    "lr.fit(train_X , train_y)\n",
    "pred_y = lr.predict(test_X)\n",
    "from sklearn.metrics import confusion_matrix , accuracy_score ,precision_score,roc_auc_score,f1_score,recall_score\n",
    "confusion_matrix(test_y , pred_y)"
   ]
  },
  {
   "cell_type": "code",
   "execution_count": 49,
   "id": "8e653395-9026-4c6a-85c2-a3f4b7283608",
   "metadata": {},
   "outputs": [
    {
     "name": "stdout",
     "output_type": "stream",
     "text": [
      "accuracy : 0.8116560056858564\n",
      "precision: 0.6847457627118644\n",
      "roc_curve: 0.7250389551226633\n",
      "f1_score: 0.6038863976083707\n"
     ]
    }
   ],
   "source": [
    "w = accuracy_score(test_y , pred_y)\n",
    "x = precision_score(test_y , pred_y)\n",
    "y = roc_auc_score(test_y , pred_y)\n",
    "z = f1_score(test_y , pred_y)\n",
    "print('accuracy :',w)\n",
    "print('precision:',x)\n",
    "print('roc_curve:',y)\n",
    "print('f1_score:',z)"
   ]
  },
  {
   "cell_type": "code",
   "execution_count": 50,
   "id": "6e78184c-1f86-45bd-af42-0d25a58fa7ac",
   "metadata": {
    "tags": []
   },
   "outputs": [
    {
     "name": "stdout",
     "output_type": "stream",
     "text": [
      "              precision    recall  f1-score   support\n",
      "\n",
      "           0       0.85      0.91      0.88      1033\n",
      "           1       0.68      0.54      0.60       374\n",
      "\n",
      "    accuracy                           0.81      1407\n",
      "   macro avg       0.77      0.73      0.74      1407\n",
      "weighted avg       0.80      0.81      0.80      1407\n",
      "\n"
     ]
    },
    {
     "data": {
      "image/png": "[encoded data removed]",
      "text/plain": [
       "<Figure size 432x288 with 2 Axes>"
      ]
     },
     "metadata": {},
     "output_type": "display_data"
    }
   ],
   "source": [
    "from sklearn.metrics import classification_report\n",
    "print(classification_report(test_y , pred_y))\n",
    "sns.heatmap(confusion_matrix(test_y , pred_y),\n",
    "                annot=True,fmt = \"d\",linecolor=\"k\",linewidths=3)\n",
    "    \n",
    "plt.title(\"LOGISTIC REGRESSION CLASSIFIER CONFUSION MATRIX\",fontsize=14)\n",
    "plt.show()"
   ]
  },
  {
   "cell_type": "code",
   "execution_count": null,
   "id": "e8aef6f1-9991-4bac-97e6-0ccb1edccebf",
   "metadata": {},
   "outputs": [],
   "source": []
  },
  {
   "cell_type": "markdown",
   "id": "525964d6-2768-44ca-948e-6b9a5cd1261f",
   "metadata": {},
   "source": [
    "## KNEAREST NEIGHBOURS"
   ]
  },
  {
   "cell_type": "code",
   "execution_count": 51,
   "id": "135b6ce2-9645-46f6-b62c-c3d08d9f0e30",
   "metadata": {},
   "outputs": [
    {
     "data": {
      "text/plain": [
       "array([[888, 145],\n",
       "       [183, 191]], dtype=int64)"
      ]
     },
     "execution_count": 51,
     "metadata": {},
     "output_type": "execute_result"
    }
   ],
   "source": [
    "from sklearn.neighbors import KNeighborsClassifier\n",
    "knn=KNeighborsClassifier()\n",
    "knn.fit(train_X , train_y)\n",
    "pred_y = knn.predict(test_X)\n",
    "confusion_matrix(test_y , pred_y)"
   ]
  },
  {
   "cell_type": "code",
   "execution_count": 52,
   "id": "2103a6a7-8e21-4fb0-a945-3ecc0688740d",
   "metadata": {},
   "outputs": [
    {
     "data": {
      "text/plain": [
       "0.7668798862828714"
      ]
     },
     "execution_count": 52,
     "metadata": {},
     "output_type": "execute_result"
    }
   ],
   "source": [
    "accuracy_score(test_y , pred_y)"
   ]
  },
  {
   "cell_type": "code",
   "execution_count": 53,
   "id": "88fee767-ce92-4e3a-b65d-3c5225781838",
   "metadata": {},
   "outputs": [
    {
     "name": "stdout",
     "output_type": "stream",
     "text": [
      "accuracy : 0.7668798862828714\n",
      "precision: 0.5684523809523809\n",
      "roc_curve: 0.685163663282791\n",
      "f1_score: 0.5380281690140845\n"
     ]
    }
   ],
   "source": [
    "w = accuracy_score(test_y , pred_y)\n",
    "x = precision_score(test_y , pred_y)\n",
    "y = roc_auc_score(test_y , pred_y)\n",
    "z = f1_score(test_y , pred_y)\n",
    "print('accuracy :',w)\n",
    "print('precision:',x)\n",
    "print('roc_curve:',y)\n",
    "print('f1_score:',z)"
   ]
  },
  {
   "cell_type": "code",
   "execution_count": 54,
   "id": "b9eed0f0-a707-4789-b1d8-db91477962dd",
   "metadata": {},
   "outputs": [
    {
     "name": "stdout",
     "output_type": "stream",
     "text": [
      "              precision    recall  f1-score   support\n",
      "\n",
      "           0       0.83      0.86      0.84      1033\n",
      "           1       0.57      0.51      0.54       374\n",
      "\n",
      "    accuracy                           0.77      1407\n",
      "   macro avg       0.70      0.69      0.69      1407\n",
      "weighted avg       0.76      0.77      0.76      1407\n",
      "\n"
     ]
    },
    {
     "data": {
      "image/png": "[encoded data removed]",
      "text/plain": [
       "<Figure size 432x288 with 2 Axes>"
      ]
     },
     "metadata": {},
     "output_type": "display_data"
    }
   ],
   "source": [
    "from sklearn.metrics import classification_report\n",
    "print(classification_report(test_y , pred_y))\n",
    "sns.heatmap(confusion_matrix(test_y , pred_y),\n",
    "                annot=True,fmt = \"d\",linecolor=\"k\",linewidths=3)\n",
    "    \n",
    "plt.title(\"KNN CLASSIFIER CONFUSION MATRIX\",fontsize=14)\n",
    "plt.show()"
   ]
  },
  {
   "cell_type": "code",
   "execution_count": 55,
   "id": "eeb1d645-02cc-4bab-a077-2b8895f28c79",
   "metadata": {},
   "outputs": [
    {
     "data": {
      "text/plain": [
       "{'n_neighbors': 75}"
      ]
     },
     "execution_count": 55,
     "metadata": {},
     "output_type": "execute_result"
    }
   ],
   "source": [
    "## CROSS VALIDATION OF KNN\n",
    "# Cross Validation\n",
    "parameter_dict={'n_neighbors':[1,11,21,31,41,51,75,101]}\n",
    "from sklearn.model_selection import GridSearchCV\n",
    "grid_df=GridSearchCV(knn,param_grid=parameter_dict)\n",
    "grid_df.fit(train_X , train_y)\n",
    "grid_df.best_params_"
   ]
  },
  {
   "cell_type": "code",
   "execution_count": 56,
   "id": "abb5748a-abc2-4966-8346-7ec03ef804b4",
   "metadata": {},
   "outputs": [
    {
     "name": "stdout",
     "output_type": "stream",
     "text": [
      "Confusion : [[912 121]\n",
      " [188 186]]\n",
      "accuracy : 0.7803837953091685\n",
      "precision: 0.6058631921824105\n",
      "roc_curve: 0.6900958218366111\n",
      "f1_score: 0.5462555066079295\n"
     ]
    }
   ],
   "source": [
    "knn=KNeighborsClassifier(n_neighbors=75,weights='distance')\n",
    "knn.fit(train_X , train_y)\n",
    "pred_y = knn.predict(test_X)\n",
    "a = confusion_matrix(test_y , pred_y)\n",
    "w = accuracy_score(test_y , pred_y)\n",
    "x = precision_score(test_y , pred_y)\n",
    "y = roc_auc_score(test_y , pred_y)\n",
    "z = f1_score(test_y , pred_y)\n",
    "print('Confusion :',a)\n",
    "print('accuracy :',w)\n",
    "print('precision:',x)\n",
    "print('roc_curve:',y)\n",
    "print('f1_score:',z)"
   ]
  },
  {
   "cell_type": "code",
   "execution_count": 57,
   "id": "cad066d4-1b55-4db4-a040-40c5d3fd0e81",
   "metadata": {},
   "outputs": [
    {
     "name": "stdout",
     "output_type": "stream",
     "text": [
      "              precision    recall  f1-score   support\n",
      "\n",
      "           0       0.83      0.88      0.86      1033\n",
      "           1       0.61      0.50      0.55       374\n",
      "\n",
      "    accuracy                           0.78      1407\n",
      "   macro avg       0.72      0.69      0.70      1407\n",
      "weighted avg       0.77      0.78      0.77      1407\n",
      "\n"
     ]
    },
    {
     "data": {
      "image/png": "[encoded data removed]",
      "text/plain": [
       "<Figure size 432x288 with 2 Axes>"
      ]
     },
     "metadata": {},
     "output_type": "display_data"
    }
   ],
   "source": [
    "from sklearn.metrics import classification_report\n",
    "print(classification_report(test_y , pred_y))\n",
    "sns.heatmap(confusion_matrix(test_y , pred_y),\n",
    "                annot=True,fmt = \"d\",linecolor=\"k\",linewidths=3)\n",
    "    \n",
    "plt.title(\"KNN CLASSIFIER CONFUSION MATRIX\",fontsize=14)\n",
    "plt.show()"
   ]
  },
  {
   "cell_type": "code",
   "execution_count": null,
   "id": "af7a509c-3872-4512-a31e-cb0d2b395cf7",
   "metadata": {},
   "outputs": [],
   "source": []
  },
  {
   "cell_type": "markdown",
   "id": "53ea1318-6740-42d2-8e26-97378073b2ca",
   "metadata": {},
   "source": [
    "## DECISION TREE CLASSIFIER"
   ]
  },
  {
   "cell_type": "code",
   "execution_count": 58,
   "id": "de0678e9-5044-47ac-a83c-1b71fa3a42ac",
   "metadata": {},
   "outputs": [
    {
     "data": {
      "text/plain": [
       "array([[823, 210],\n",
       "       [187, 187]], dtype=int64)"
      ]
     },
     "execution_count": 58,
     "metadata": {},
     "output_type": "execute_result"
    }
   ],
   "source": [
    "from sklearn.tree import DecisionTreeClassifier\n",
    "dt=DecisionTreeClassifier()\n",
    "dt.fit(train_X , train_y)\n",
    "pred_y=dt.predict(test_X)\n",
    "confusion_matrix(test_y , pred_y)"
   ]
  },
  {
   "cell_type": "code",
   "execution_count": 59,
   "id": "8b53a1f6-d5e1-4343-82d7-01ba2e37e651",
   "metadata": {},
   "outputs": [
    {
     "data": {
      "text/plain": [
       "0.7178393745557925"
      ]
     },
     "execution_count": 59,
     "metadata": {},
     "output_type": "execute_result"
    }
   ],
   "source": [
    "accuracy_score(test_y , pred_y)"
   ]
  },
  {
   "cell_type": "code",
   "execution_count": 60,
   "id": "e835db82-2934-433d-8929-a8d4c5378686",
   "metadata": {},
   "outputs": [
    {
     "name": "stdout",
     "output_type": "stream",
     "text": [
      "accuracy : 0.7178393745557925\n",
      "precision: 0.47103274559193953\n",
      "roc_curve: 0.6483543078412392\n",
      "f1_score: 0.48508430609597925\n"
     ]
    }
   ],
   "source": [
    "w = accuracy_score(test_y , pred_y)\n",
    "x = precision_score(test_y , pred_y)\n",
    "y = roc_auc_score(test_y , pred_y)\n",
    "z = f1_score(test_y , pred_y)\n",
    "print('accuracy :',w)\n",
    "print('precision:',x)\n",
    "print('roc_curve:',y)\n",
    "print('f1_score:',z)"
   ]
  },
  {
   "cell_type": "code",
   "execution_count": 61,
   "id": "e0de9755-59d6-4b98-ab80-b3b9690113a0",
   "metadata": {
    "collapsed": true,
    "jupyter": {
     "outputs_hidden": true
    },
    "tags": []
   },
   "outputs": [
    {
     "name": "stderr",
     "output_type": "stream",
     "text": [
      "C:\\Users\\Asus\\anaconda3\\lib\\site-packages\\sklearn\\model_selection\\_validation.py:372: FitFailedWarning: \n",
      "30 fits failed out of a total of 150.\n",
      "The score on these train-test partitions for these parameters will be set to nan.\n",
      "If these failures are not expected, you can try to debug them by setting error_score='raise'.\n",
      "\n",
      "Below are more details about the failures:\n",
      "--------------------------------------------------------------------------------\n",
      "30 fits failed with the following error:\n",
      "Traceback (most recent call last):\n",
      "  File \"C:\\Users\\Asus\\anaconda3\\lib\\site-packages\\sklearn\\model_selection\\_validation.py\", line 680, in _fit_and_score\n",
      "    estimator.fit(X_train, y_train, **fit_params)\n",
      "  File \"C:\\Users\\Asus\\anaconda3\\lib\\site-packages\\sklearn\\tree\\_classes.py\", line 937, in fit\n",
      "    super().fit(\n",
      "  File \"C:\\Users\\Asus\\anaconda3\\lib\\site-packages\\sklearn\\tree\\_classes.py\", line 250, in fit\n",
      "    raise ValueError(\n",
      "ValueError: min_samples_split must be an integer greater than 1 or a float in (0.0, 1.0]; got the integer 1\n",
      "\n",
      "  warnings.warn(some_fits_failed_message, FitFailedWarning)\n",
      "C:\\Users\\Asus\\anaconda3\\lib\\site-packages\\sklearn\\model_selection\\_search.py:969: UserWarning: One or more of the test scores are non-finite: [       nan 0.73422222 0.73422222 0.73422222 0.73422222        nan\n",
      " 0.72728889 0.72657778 0.72746667 0.72408889        nan 0.77493333\n",
      " 0.77493333 0.77493333 0.77493333        nan 0.73422222 0.73422222\n",
      " 0.73422222 0.73422222        nan 0.72124444 0.72213333 0.72586667\n",
      " 0.72888889        nan 0.76977778 0.76977778 0.76977778 0.76977778]\n",
      "  warnings.warn(\n"
     ]
    },
    {
     "data": {
      "text/plain": [
       "GridSearchCV(estimator=DecisionTreeClassifier(),\n",
       "             param_grid={'criterion': ['gini', 'entropy'],\n",
       "                         'max_depth': [1, 30, 4],\n",
       "                         'min_samples_split': [1, 2, 3, 4, 5]})"
      ]
     },
     "execution_count": 61,
     "metadata": {},
     "output_type": "execute_result"
    }
   ],
   "source": [
    "# CROSS VALIDATION OF DECISION TREE CLASSIFIER\n",
    "parameter_dict={'criterion':['gini','entropy'],'max_depth':[1,30,4],\n",
    "    'min_samples_split':[1,2,3,4,5]}\n",
    "grid_model=GridSearchCV(dt,param_grid=parameter_dict)\n",
    "grid_model.fit(train_X , train_y)"
   ]
  },
  {
   "cell_type": "code",
   "execution_count": 62,
   "id": "3a4a66b5-5af0-49f0-b7a0-3ace26d016bf",
   "metadata": {},
   "outputs": [
    {
     "data": {
      "text/plain": [
       "{'criterion': 'gini', 'max_depth': 4, 'min_samples_split': 2}"
      ]
     },
     "execution_count": 62,
     "metadata": {},
     "output_type": "execute_result"
    }
   ],
   "source": [
    "grid_model.best_params_"
   ]
  },
  {
   "cell_type": "code",
   "execution_count": 63,
   "id": "f7eb384c-b23f-4a8d-8e77-710e067d21d3",
   "metadata": {},
   "outputs": [
    {
     "data": {
      "text/plain": [
       "array([[954,  79],\n",
       "       [232, 142]], dtype=int64)"
      ]
     },
     "execution_count": 63,
     "metadata": {},
     "output_type": "execute_result"
    }
   ],
   "source": [
    "dt=DecisionTreeClassifier(criterion='gini' , max_depth=4 , min_samples_split=2)\n",
    "dt.fit(train_X , train_y)\n",
    "pred_y=dt.predict(test_X)\n",
    "confusion_matrix(test_y , pred_y)"
   ]
  },
  {
   "cell_type": "code",
   "execution_count": 64,
   "id": "2709b78f-003b-48f8-8249-7f63e22cab31",
   "metadata": {},
   "outputs": [
    {
     "name": "stdout",
     "output_type": "stream",
     "text": [
      "accuracy : 0.7789623312011372\n",
      "precision: 0.6425339366515838\n",
      "roc_curve: 0.6516014308565986\n",
      "f1_score: 0.4773109243697479\n"
     ]
    }
   ],
   "source": [
    "w = accuracy_score(test_y , pred_y)\n",
    "x = precision_score(test_y , pred_y)\n",
    "y = roc_auc_score(test_y , pred_y)\n",
    "z = f1_score(test_y , pred_y)\n",
    "print('accuracy :',w)\n",
    "print('precision:',x)\n",
    "print('roc_curve:',y)\n",
    "print('f1_score:',z)"
   ]
  },
  {
   "cell_type": "code",
   "execution_count": 65,
   "id": "e9261f28-d78b-4e47-ab09-ea591513b19f",
   "metadata": {},
   "outputs": [
    {
     "name": "stdout",
     "output_type": "stream",
     "text": [
      "              precision    recall  f1-score   support\n",
      "\n",
      "           0       0.80      0.92      0.86      1033\n",
      "           1       0.64      0.38      0.48       374\n",
      "\n",
      "    accuracy                           0.78      1407\n",
      "   macro avg       0.72      0.65      0.67      1407\n",
      "weighted avg       0.76      0.78      0.76      1407\n",
      "\n"
     ]
    },
    {
     "data": {
      "image/png": "[encoded data removed]",
      "text/plain": [
       "<Figure size 432x288 with 2 Axes>"
      ]
     },
     "metadata": {},
     "output_type": "display_data"
    }
   ],
   "source": [
    "from sklearn.metrics import classification_report\n",
    "print(classification_report(test_y , pred_y))\n",
    "sns.heatmap(confusion_matrix(test_y , pred_y),\n",
    "                annot=True,fmt = \"d\",linecolor=\"k\",linewidths=3)\n",
    "    \n",
    "plt.title(\"DECISION TREE CLASSIFIER CONFUSION MATRIX\",fontsize=14)\n",
    "plt.show()"
   ]
  },
  {
   "cell_type": "code",
   "execution_count": null,
   "id": "4da5c05e-60a8-4109-93f5-244197c13ff2",
   "metadata": {},
   "outputs": [],
   "source": []
  },
  {
   "cell_type": "markdown",
   "id": "187c8664-5837-4bca-88bb-c51241b62df0",
   "metadata": {},
   "source": [
    "## BAGGING CLASSIFIEER"
   ]
  },
  {
   "cell_type": "code",
   "execution_count": 66,
   "id": "84d3d6fe-e16a-4a79-af1d-2ed62a66fd01",
   "metadata": {},
   "outputs": [
    {
     "data": {
      "text/plain": [
       "array([[934,  99],\n",
       "       [202, 172]], dtype=int64)"
      ]
     },
     "execution_count": 66,
     "metadata": {},
     "output_type": "execute_result"
    }
   ],
   "source": [
    "from sklearn.ensemble import BaggingClassifier\n",
    "bg=BaggingClassifier( n_estimators=100,bootstrap=True,oob_score=True,random_state=42)\n",
    "bg.fit(train_X , train_y)\n",
    "pred_y=bg.predict(test_X)\n",
    "confusion_matrix(test_y,pred_y)"
   ]
  },
  {
   "cell_type": "code",
   "execution_count": 67,
   "id": "e88b4486-cffa-4abb-b97f-89a8509bff57",
   "metadata": {},
   "outputs": [
    {
     "name": "stdout",
     "output_type": "stream",
     "text": [
      "accuracy : 0.7860696517412935\n",
      "precision: 0.6346863468634686\n",
      "roc_curve: 0.6820278406178981\n",
      "f1_score: 0.5333333333333333\n"
     ]
    }
   ],
   "source": [
    "w = accuracy_score(test_y , pred_y)\n",
    "x = precision_score(test_y , pred_y)\n",
    "y = roc_auc_score(test_y , pred_y)\n",
    "z = f1_score(test_y , pred_y)\n",
    "print('accuracy :',w)\n",
    "print('precision:',x)\n",
    "print('roc_curve:',y)\n",
    "print('f1_score:',z)"
   ]
  },
  {
   "cell_type": "code",
   "execution_count": 165,
   "id": "b2649736-2ccc-4a49-8957-cc46c496b80e",
   "metadata": {
    "collapsed": true,
    "jupyter": {
     "outputs_hidden": true
    },
    "tags": []
   },
   "outputs": [
    {
     "name": "stderr",
     "output_type": "stream",
     "text": [
      "C:\\Users\\Asus\\anaconda3\\lib\\site-packages\\sklearn\\ensemble\\_bagging.py:706: UserWarning: Some inputs do not have OOB scores. This probably means too few estimators were used to compute any reliable oob estimates.\n",
      "  warn(\n",
      "C:\\Users\\Asus\\anaconda3\\lib\\site-packages\\sklearn\\ensemble\\_bagging.py:712: RuntimeWarning: invalid value encountered in true_divide\n",
      "  oob_decision_function = predictions / predictions.sum(axis=1)[:, np.newaxis]\n",
      "C:\\Users\\Asus\\anaconda3\\lib\\site-packages\\sklearn\\ensemble\\_bagging.py:706: UserWarning: Some inputs do not have OOB scores. This probably means too few estimators were used to compute any reliable oob estimates.\n",
      "  warn(\n",
      "C:\\Users\\Asus\\anaconda3\\lib\\site-packages\\sklearn\\ensemble\\_bagging.py:712: RuntimeWarning: invalid value encountered in true_divide\n",
      "  oob_decision_function = predictions / predictions.sum(axis=1)[:, np.newaxis]\n",
      "C:\\Users\\Asus\\anaconda3\\lib\\site-packages\\sklearn\\ensemble\\_bagging.py:706: UserWarning: Some inputs do not have OOB scores. This probably means too few estimators were used to compute any reliable oob estimates.\n",
      "  warn(\n",
      "C:\\Users\\Asus\\anaconda3\\lib\\site-packages\\sklearn\\ensemble\\_bagging.py:712: RuntimeWarning: invalid value encountered in true_divide\n",
      "  oob_decision_function = predictions / predictions.sum(axis=1)[:, np.newaxis]\n",
      "C:\\Users\\Asus\\anaconda3\\lib\\site-packages\\sklearn\\ensemble\\_bagging.py:706: UserWarning: Some inputs do not have OOB scores. This probably means too few estimators were used to compute any reliable oob estimates.\n",
      "  warn(\n",
      "C:\\Users\\Asus\\anaconda3\\lib\\site-packages\\sklearn\\ensemble\\_bagging.py:712: RuntimeWarning: invalid value encountered in true_divide\n",
      "  oob_decision_function = predictions / predictions.sum(axis=1)[:, np.newaxis]\n",
      "C:\\Users\\Asus\\anaconda3\\lib\\site-packages\\sklearn\\ensemble\\_bagging.py:706: UserWarning: Some inputs do not have OOB scores. This probably means too few estimators were used to compute any reliable oob estimates.\n",
      "  warn(\n",
      "C:\\Users\\Asus\\anaconda3\\lib\\site-packages\\sklearn\\ensemble\\_bagging.py:712: RuntimeWarning: invalid value encountered in true_divide\n",
      "  oob_decision_function = predictions / predictions.sum(axis=1)[:, np.newaxis]\n",
      "C:\\Users\\Asus\\anaconda3\\lib\\site-packages\\sklearn\\ensemble\\_bagging.py:706: UserWarning: Some inputs do not have OOB scores. This probably means too few estimators were used to compute any reliable oob estimates.\n",
      "  warn(\n",
      "C:\\Users\\Asus\\anaconda3\\lib\\site-packages\\sklearn\\ensemble\\_bagging.py:712: RuntimeWarning: invalid value encountered in true_divide\n",
      "  oob_decision_function = predictions / predictions.sum(axis=1)[:, np.newaxis]\n",
      "C:\\Users\\Asus\\anaconda3\\lib\\site-packages\\sklearn\\ensemble\\_bagging.py:706: UserWarning: Some inputs do not have OOB scores. This probably means too few estimators were used to compute any reliable oob estimates.\n",
      "  warn(\n",
      "C:\\Users\\Asus\\anaconda3\\lib\\site-packages\\sklearn\\ensemble\\_bagging.py:712: RuntimeWarning: invalid value encountered in true_divide\n",
      "  oob_decision_function = predictions / predictions.sum(axis=1)[:, np.newaxis]\n",
      "C:\\Users\\Asus\\anaconda3\\lib\\site-packages\\sklearn\\ensemble\\_bagging.py:706: UserWarning: Some inputs do not have OOB scores. This probably means too few estimators were used to compute any reliable oob estimates.\n",
      "  warn(\n",
      "C:\\Users\\Asus\\anaconda3\\lib\\site-packages\\sklearn\\ensemble\\_bagging.py:712: RuntimeWarning: invalid value encountered in true_divide\n",
      "  oob_decision_function = predictions / predictions.sum(axis=1)[:, np.newaxis]\n",
      "C:\\Users\\Asus\\anaconda3\\lib\\site-packages\\sklearn\\ensemble\\_bagging.py:706: UserWarning: Some inputs do not have OOB scores. This probably means too few estimators were used to compute any reliable oob estimates.\n",
      "  warn(\n",
      "C:\\Users\\Asus\\anaconda3\\lib\\site-packages\\sklearn\\ensemble\\_bagging.py:712: RuntimeWarning: invalid value encountered in true_divide\n",
      "  oob_decision_function = predictions / predictions.sum(axis=1)[:, np.newaxis]\n",
      "C:\\Users\\Asus\\anaconda3\\lib\\site-packages\\sklearn\\ensemble\\_bagging.py:706: UserWarning: Some inputs do not have OOB scores. This probably means too few estimators were used to compute any reliable oob estimates.\n",
      "  warn(\n",
      "C:\\Users\\Asus\\anaconda3\\lib\\site-packages\\sklearn\\ensemble\\_bagging.py:712: RuntimeWarning: invalid value encountered in true_divide\n",
      "  oob_decision_function = predictions / predictions.sum(axis=1)[:, np.newaxis]\n",
      "C:\\Users\\Asus\\anaconda3\\lib\\site-packages\\sklearn\\ensemble\\_bagging.py:706: UserWarning: Some inputs do not have OOB scores. This probably means too few estimators were used to compute any reliable oob estimates.\n",
      "  warn(\n",
      "C:\\Users\\Asus\\anaconda3\\lib\\site-packages\\sklearn\\ensemble\\_bagging.py:712: RuntimeWarning: invalid value encountered in true_divide\n",
      "  oob_decision_function = predictions / predictions.sum(axis=1)[:, np.newaxis]\n",
      "C:\\Users\\Asus\\anaconda3\\lib\\site-packages\\sklearn\\ensemble\\_bagging.py:706: UserWarning: Some inputs do not have OOB scores. This probably means too few estimators were used to compute any reliable oob estimates.\n",
      "  warn(\n",
      "C:\\Users\\Asus\\anaconda3\\lib\\site-packages\\sklearn\\ensemble\\_bagging.py:712: RuntimeWarning: invalid value encountered in true_divide\n",
      "  oob_decision_function = predictions / predictions.sum(axis=1)[:, np.newaxis]\n",
      "C:\\Users\\Asus\\anaconda3\\lib\\site-packages\\sklearn\\ensemble\\_bagging.py:706: UserWarning: Some inputs do not have OOB scores. This probably means too few estimators were used to compute any reliable oob estimates.\n",
      "  warn(\n",
      "C:\\Users\\Asus\\anaconda3\\lib\\site-packages\\sklearn\\ensemble\\_bagging.py:712: RuntimeWarning: invalid value encountered in true_divide\n",
      "  oob_decision_function = predictions / predictions.sum(axis=1)[:, np.newaxis]\n",
      "C:\\Users\\Asus\\anaconda3\\lib\\site-packages\\sklearn\\ensemble\\_bagging.py:706: UserWarning: Some inputs do not have OOB scores. This probably means too few estimators were used to compute any reliable oob estimates.\n",
      "  warn(\n",
      "C:\\Users\\Asus\\anaconda3\\lib\\site-packages\\sklearn\\ensemble\\_bagging.py:712: RuntimeWarning: invalid value encountered in true_divide\n",
      "  oob_decision_function = predictions / predictions.sum(axis=1)[:, np.newaxis]\n",
      "C:\\Users\\Asus\\anaconda3\\lib\\site-packages\\sklearn\\ensemble\\_bagging.py:706: UserWarning: Some inputs do not have OOB scores. This probably means too few estimators were used to compute any reliable oob estimates.\n",
      "  warn(\n",
      "C:\\Users\\Asus\\anaconda3\\lib\\site-packages\\sklearn\\ensemble\\_bagging.py:712: RuntimeWarning: invalid value encountered in true_divide\n",
      "  oob_decision_function = predictions / predictions.sum(axis=1)[:, np.newaxis]\n"
     ]
    },
    {
     "data": {
      "text/plain": [
       "GridSearchCV(estimator=BaggingClassifier(n_estimators=100, oob_score=True,\n",
       "                                         random_state=42),\n",
       "             param_grid={'n_estimators': [1, 11, 21, 31, 41, 51, 61, 71, 81,\n",
       "                                          91]})"
      ]
     },
     "execution_count": 165,
     "metadata": {},
     "output_type": "execute_result"
    }
   ],
   "source": [
    "#CROSS VALIDATION OF BAGING CLASSIFIER\n",
    "from sklearn.model_selection import GridSearchCV\n",
    "param_grid_bagging = {'n_estimators':list(range(1,100,10))}\n",
    "grid = GridSearchCV(bg , param_grid=param_grid_bagging)\n",
    "grid.fit(train_X , train_y)"
   ]
  },
  {
   "cell_type": "code",
   "execution_count": 166,
   "id": "0faa490a-a24c-4bab-a78e-aef977714824",
   "metadata": {},
   "outputs": [
    {
     "data": {
      "text/plain": [
       "{'n_estimators': 91}"
      ]
     },
     "execution_count": 166,
     "metadata": {},
     "output_type": "execute_result"
    }
   ],
   "source": [
    "grid.best_params_"
   ]
  },
  {
   "cell_type": "code",
   "execution_count": 167,
   "id": "55ea0ff8-f2be-4f95-8edd-3a33f0fc077b",
   "metadata": {},
   "outputs": [
    {
     "data": {
      "text/plain": [
       "array([[933, 100],\n",
       "       [197, 177]], dtype=int64)"
      ]
     },
     "execution_count": 167,
     "metadata": {},
     "output_type": "execute_result"
    }
   ],
   "source": [
    "bg = BaggingClassifier(n_estimators=91 , bootstrap=True , oob_score=True)\n",
    "bg.fit(train_X , train_y)\n",
    "pred_y = bg.predict(test_X)\n",
    "confusion_matrix(test_y , pred_y)"
   ]
  },
  {
   "cell_type": "code",
   "execution_count": 168,
   "id": "60236126-555d-40ce-b330-49938a68b9a5",
   "metadata": {},
   "outputs": [
    {
     "name": "stdout",
     "output_type": "stream",
     "text": [
      "accuracy : 0.7889125799573561\n",
      "precision: 0.6389891696750902\n",
      "roc_curve: 0.6882283054909898\n",
      "f1_score: 0.543778801843318\n"
     ]
    }
   ],
   "source": [
    "w = accuracy_score(test_y , pred_y)\n",
    "x = precision_score(test_y , pred_y)\n",
    "y = roc_auc_score(test_y , pred_y)\n",
    "z = f1_score(test_y , pred_y)\n",
    "print('accuracy :',w)\n",
    "print('precision:',x)\n",
    "print('roc_curve:',y)\n",
    "print('f1_score:',z)"
   ]
  },
  {
   "cell_type": "code",
   "execution_count": 169,
   "id": "0b84dac5-a222-440b-a4f0-ed7ced2fcc57",
   "metadata": {},
   "outputs": [
    {
     "name": "stdout",
     "output_type": "stream",
     "text": [
      "              precision    recall  f1-score   support\n",
      "\n",
      "           0       0.83      0.90      0.86      1033\n",
      "           1       0.64      0.47      0.54       374\n",
      "\n",
      "    accuracy                           0.79      1407\n",
      "   macro avg       0.73      0.69      0.70      1407\n",
      "weighted avg       0.78      0.79      0.78      1407\n",
      "\n"
     ]
    },
    {
     "data": {
      "image/png": "[encoded data removed]",
      "text/plain": [
       "<Figure size 432x288 with 2 Axes>"
      ]
     },
     "metadata": {},
     "output_type": "display_data"
    }
   ],
   "source": [
    "from sklearn.metrics import classification_report\n",
    "print(classification_report(test_y , pred_y))\n",
    "sns.heatmap(confusion_matrix(test_y , pred_y),\n",
    "                annot=True,fmt = \"d\",linecolor=\"k\",linewidths=3)\n",
    "    \n",
    "plt.title(\"BAGGING CLASSIFIER CONFUSION MATRIX\",fontsize=14)\n",
    "plt.show()"
   ]
  },
  {
   "cell_type": "code",
   "execution_count": null,
   "id": "de87d8ca-202c-4307-9dea-25f7a47726a2",
   "metadata": {},
   "outputs": [],
   "source": []
  },
  {
   "cell_type": "markdown",
   "id": "2ba41b1a-df86-4c73-bf44-910c291e39ce",
   "metadata": {},
   "source": [
    "## RANDOM FOREST CLASSIFIER"
   ]
  },
  {
   "cell_type": "code",
   "execution_count": 170,
   "id": "b246c9db-c410-41f1-9f08-ac291f2c0579",
   "metadata": {},
   "outputs": [
    {
     "data": {
      "text/plain": [
       "array([[950,  83],\n",
       "       [195, 179]], dtype=int64)"
      ]
     },
     "execution_count": 170,
     "metadata": {},
     "output_type": "execute_result"
    }
   ],
   "source": [
    "from sklearn.ensemble import RandomForestClassifier\n",
    "rf=RandomForestClassifier()\n",
    "rf.fit(train_X , train_y)\n",
    "pred_y = rf.predict(test_X)\n",
    "confusion_matrix(test_y , pred_y)"
   ]
  },
  {
   "cell_type": "code",
   "execution_count": 171,
   "id": "5f70a7e1-53fd-47d3-bd35-397b93376b77",
   "metadata": {},
   "outputs": [
    {
     "data": {
      "text/plain": [
       "0.8024164889836531"
      ]
     },
     "execution_count": 171,
     "metadata": {},
     "output_type": "execute_result"
    }
   ],
   "source": [
    "accuracy_score(test_y , pred_y)"
   ]
  },
  {
   "cell_type": "code",
   "execution_count": 172,
   "id": "e2ffc713-27b7-4c31-8bc9-4f4d7abc2f90",
   "metadata": {},
   "outputs": [
    {
     "name": "stdout",
     "output_type": "stream",
     "text": [
      "accuracy : 0.8024164889836531\n",
      "precision: 0.683206106870229\n",
      "roc_curve: 0.6991305630762381\n",
      "f1_score: 0.5628930817610063\n"
     ]
    }
   ],
   "source": [
    "w = accuracy_score(test_y , pred_y)\n",
    "x = precision_score(test_y , pred_y)\n",
    "y = roc_auc_score(test_y , pred_y)\n",
    "z = f1_score(test_y , pred_y)\n",
    "print('accuracy :',w)\n",
    "print('precision:',x)\n",
    "print('roc_curve:',y)\n",
    "print('f1_score:',z)"
   ]
  },
  {
   "cell_type": "code",
   "execution_count": null,
   "id": "acd6f0bd-e917-4382-80f5-dbe2f079c6aa",
   "metadata": {},
   "outputs": [],
   "source": [
    "# CROSS VALIDATION OF RANDOM FOREST CLASSIFIER\n",
    "parameter_dict={'n_estimators':list(range(1,100,10)),\n",
    "    'criterion':['gini','entropy'],\n",
    "    'max_depth':list(range(1,25,5)),\n",
    "    'min_samples_split':list(range(1,10,2)),\n",
    "    'min_samples_leaf':[1,2,3,4,5]\n",
    "    }\n",
    "from sklearn.model_selection import GridSearchCV\n",
    "rf_grid=GridSearchCV(rf,param_grid=parameter_dict)\n",
    "rf_grid.fit(train_X , train_y)\n",
    "rf_grid.best_params_"
   ]
  },
  {
   "cell_type": "markdown",
   "id": "c9dc1fea-781c-40b9-84dd-7292b7b5f8be",
   "metadata": {},
   "source": [
    "## SUPPORT VECTOR CLASSIFIER"
   ]
  },
  {
   "cell_type": "code",
   "execution_count": 173,
   "id": "d08e11f3-05ca-4801-bc95-8e2b914acce0",
   "metadata": {},
   "outputs": [
    {
     "name": "stdout",
     "output_type": "stream",
     "text": [
      "[[959  74]\n",
      " [215 159]]\n",
      "accuracy : 0.7945984363894811\n",
      "precision: 0.6824034334763949\n",
      "roc_curve: 0.6767488391114608\n",
      "f1_score: 0.5238879736408567\n"
     ]
    }
   ],
   "source": [
    "from sklearn.svm import SVC\n",
    "svm= SVC(degree=4)\n",
    "svm.fit(train_X , train_y)\n",
    "y_pred_svm=svm.predict(test_X)\n",
    "print(confusion_matrix(test_y ,y_pred_svm))\n",
    "w = accuracy_score(test_y ,y_pred_svm)\n",
    "x = precision_score(test_y , y_pred_svm)\n",
    "y = roc_auc_score(test_y , y_pred_svm)\n",
    "z = f1_score(test_y ,y_pred_svm)\n",
    "print('accuracy :',w)\n",
    "print('precision:',x)\n",
    "print('roc_curve:',y)\n",
    "print('f1_score:',z)"
   ]
  },
  {
   "cell_type": "code",
   "execution_count": 174,
   "id": "8788c37f-7ffe-4258-ac9d-aa596471cc9a",
   "metadata": {},
   "outputs": [
    {
     "name": "stdout",
     "output_type": "stream",
     "text": [
      "              precision    recall  f1-score   support\n",
      "\n",
      "           0       0.83      0.92      0.87      1033\n",
      "           1       0.68      0.48      0.56       374\n",
      "\n",
      "    accuracy                           0.80      1407\n",
      "   macro avg       0.76      0.70      0.72      1407\n",
      "weighted avg       0.79      0.80      0.79      1407\n",
      "\n"
     ]
    },
    {
     "data": {
      "image/png": "[encoded data removed]",
      "text/plain": [
       "<Figure size 432x288 with 2 Axes>"
      ]
     },
     "metadata": {},
     "output_type": "display_data"
    }
   ],
   "source": [
    "from sklearn.metrics import classification_report\n",
    "print(classification_report(test_y , pred_y))\n",
    "sns.heatmap(confusion_matrix(test_y , pred_y),\n",
    "                annot=True,fmt = \"d\",linecolor=\"k\",linewidths=3)\n",
    "    \n",
    "plt.title(\"SUPORT VECTOR CLASSIFIER CONFUSION MATRIX\",fontsize=14)\n",
    "plt.show()"
   ]
  },
  {
   "cell_type": "code",
   "execution_count": null,
   "id": "4df05ca8-5458-4108-bcee-ad1dea830698",
   "metadata": {},
   "outputs": [],
   "source": []
  },
  {
   "cell_type": "markdown",
   "id": "1c675300-7efe-4a41-892b-3540600bd34a",
   "metadata": {},
   "source": [
    "## VOTING CLASSIFIER"
   ]
  },
  {
   "cell_type": "code",
   "execution_count": 175,
   "id": "689def2f-1b25-4d62-99c6-89dc1c242e01",
   "metadata": {},
   "outputs": [
    {
     "data": {
      "text/plain": [
       "array([[961,  72],\n",
       "       [215, 159]], dtype=int64)"
      ]
     },
     "execution_count": 175,
     "metadata": {},
     "output_type": "execute_result"
    }
   ],
   "source": [
    "from sklearn.ensemble import VotingClassifier\n",
    "voting_clf=VotingClassifier([('knn',knn),('dt',dt),('rf',rf),('bg',bg)],voting='hard',n_jobs=5)\n",
    "voting_clf.fit(train_X , train_y)\n",
    "y_pred_voting_clf=voting_clf.predict(test_X)\n",
    "confusion_matrix(test_y,y_pred_voting_clf)"
   ]
  },
  {
   "cell_type": "code",
   "execution_count": 176,
   "id": "6fee5a0e-f341-429a-bd29-1d729ef8159e",
   "metadata": {},
   "outputs": [
    {
     "name": "stdout",
     "output_type": "stream",
     "text": [
      "accuracy : 0.7960199004975125\n",
      "precision: 0.6883116883116883\n",
      "roc_curve: 0.6777168933224966\n",
      "f1_score: 0.5256198347107437\n"
     ]
    }
   ],
   "source": [
    "w = accuracy_score(test_y ,y_pred_voting_clf)\n",
    "x = precision_score(test_y , y_pred_voting_clf)\n",
    "y = roc_auc_score(test_y , y_pred_voting_clf)\n",
    "z = f1_score(test_y ,y_pred_voting_clf)\n",
    "print('accuracy :',w)\n",
    "print('precision:',x)\n",
    "print('roc_curve:',y)\n",
    "print('f1_score:',z)"
   ]
  },
  {
   "cell_type": "code",
   "execution_count": null,
   "id": "8fbe363d-645a-4747-a7c6-a28797c35e02",
   "metadata": {},
   "outputs": [],
   "source": []
  },
  {
   "cell_type": "markdown",
   "id": "64e08b0b-bcef-4840-8ad6-458b8566448a",
   "metadata": {},
   "source": [
    "## ADABOOSTING CLASSIFIER"
   ]
  },
  {
   "cell_type": "code",
   "execution_count": 177,
   "id": "fcc8eb7e-7c66-429e-afba-157c0c2349e4",
   "metadata": {},
   "outputs": [
    {
     "data": {
      "text/plain": [
       "array([[934,  99],\n",
       "       [177, 197]], dtype=int64)"
      ]
     },
     "execution_count": 177,
     "metadata": {},
     "output_type": "execute_result"
    }
   ],
   "source": [
    "from sklearn.ensemble import AdaBoostClassifier\n",
    "ada = AdaBoostClassifier()\n",
    "ada.fit(train_X , train_y)\n",
    "pred_y = ada.predict(test_X)\n",
    "confusion_matrix(test_y , pred_y)"
   ]
  },
  {
   "cell_type": "code",
   "execution_count": 178,
   "id": "290be9b6-2222-4e12-b54f-08e39dacf5af",
   "metadata": {},
   "outputs": [
    {
     "name": "stdout",
     "output_type": "stream",
     "text": [
      "accuracy : 0.8038379530916845\n",
      "precision: 0.6655405405405406\n",
      "roc_curve: 0.7154503005109464\n",
      "f1_score: 0.5880597014925374\n"
     ]
    }
   ],
   "source": [
    "w = accuracy_score(test_y ,pred_y)\n",
    "x = precision_score(test_y , pred_y)\n",
    "y = roc_auc_score(test_y , pred_y)\n",
    "z = f1_score(test_y ,pred_y)\n",
    "print('accuracy :',w)\n",
    "print('precision:',x)\n",
    "print('roc_curve:',y)\n",
    "print('f1_score:',z)"
   ]
  },
  {
   "cell_type": "code",
   "execution_count": 179,
   "id": "86a54689-48f6-4a7b-9c69-d2a93ffb508e",
   "metadata": {},
   "outputs": [
    {
     "name": "stdout",
     "output_type": "stream",
     "text": [
      "              precision    recall  f1-score   support\n",
      "\n",
      "           0       0.84      0.90      0.87      1033\n",
      "           1       0.67      0.53      0.59       374\n",
      "\n",
      "    accuracy                           0.80      1407\n",
      "   macro avg       0.75      0.72      0.73      1407\n",
      "weighted avg       0.79      0.80      0.80      1407\n",
      "\n"
     ]
    },
    {
     "data": {
      "image/png": "[encoded data removed]",
      "text/plain": [
       "<Figure size 432x288 with 2 Axes>"
      ]
     },
     "metadata": {},
     "output_type": "display_data"
    }
   ],
   "source": [
    "from sklearn.metrics import classification_report\n",
    "print(classification_report(test_y , pred_y))\n",
    "sns.heatmap(confusion_matrix(test_y , pred_y),\n",
    "                annot=True,fmt = \"d\",linecolor=\"k\",linewidths=3)\n",
    "    \n",
    "plt.title(\"ADABOOSTING CLASSIFIER CONFUSION MATRIX\",fontsize=14)\n",
    "plt.show()"
   ]
  },
  {
   "cell_type": "code",
   "execution_count": null,
   "id": "ca3bf542-bd7b-48fa-9c4b-1b5417bbb539",
   "metadata": {},
   "outputs": [],
   "source": []
  },
  {
   "cell_type": "markdown",
   "id": "4aad37ae-34c2-4a88-ba6d-2c43ac0d0bcd",
   "metadata": {},
   "source": [
    "## XGBOOST CLASSIFIER"
   ]
  },
  {
   "cell_type": "code",
   "execution_count": 180,
   "id": "3793de85-4ea2-4712-a522-d12e67024db6",
   "metadata": {},
   "outputs": [],
   "source": [
    "from xgboost import XGBClassifier"
   ]
  },
  {
   "cell_type": "code",
   "execution_count": 181,
   "id": "975dc38b-f5b3-452e-996d-36b6226c6106",
   "metadata": {},
   "outputs": [
    {
     "data": {
      "text/plain": [
       "array([[928, 105],\n",
       "       [193, 181]], dtype=int64)"
      ]
     },
     "execution_count": 181,
     "metadata": {},
     "output_type": "execute_result"
    }
   ],
   "source": [
    "xgb = XGBClassifier()\n",
    "xgb.fit(train_X , train_y)\n",
    "pred_y = xgb.predict(test_X)\n",
    "confusion_matrix(test_y , pred_y)"
   ]
  },
  {
   "cell_type": "code",
   "execution_count": 182,
   "id": "315a0a44-d417-4283-b8f5-cf56199e3f86",
   "metadata": {},
   "outputs": [
    {
     "name": "stdout",
     "output_type": "stream",
     "text": [
      "              precision    recall  f1-score   support\n",
      "\n",
      "           0       0.83      0.90      0.86      1033\n",
      "           1       0.63      0.48      0.55       374\n",
      "\n",
      "    accuracy                           0.79      1407\n",
      "   macro avg       0.73      0.69      0.71      1407\n",
      "weighted avg       0.78      0.79      0.78      1407\n",
      "\n"
     ]
    },
    {
     "data": {
      "image/png": "[encoded data removed]",
      "text/plain": [
       "<Figure size 432x288 with 2 Axes>"
      ]
     },
     "metadata": {},
     "output_type": "display_data"
    }
   ],
   "source": [
    "from sklearn.metrics import classification_report\n",
    "print(classification_report(test_y , pred_y))\n",
    "sns.heatmap(confusion_matrix(test_y , pred_y),\n",
    "                annot=True,fmt = \"d\",linecolor=\"k\",linewidths=3)\n",
    "    \n",
    "plt.title(\"XGBOOST CLASSIFIER CONFUSION MATRIX\",fontsize=14)\n",
    "plt.show()"
   ]
  },
  {
   "cell_type": "markdown",
   "id": "0ac7af8b-4a4a-4871-86ec-38142d0f4bd7",
   "metadata": {},
   "source": [
    "## CONCLUSION : Cross Validation of Logistic regression shows Highest Accuracy and F1score , so we should go with LOGISTIC REGRESSION"
   ]
  },
  {
   "cell_type": "code",
   "execution_count": null,
   "id": "d1fe113b-bc3b-4795-a4f9-c662d9ea2dd9",
   "metadata": {},
   "outputs": [],
   "source": []
  }
 ],
 "metadata": {
  "kernelspec": {
   "display_name": "Python 3 (ipykernel)",
   "language": "python",
   "name": "python3"
  },
  "language_info": {
   "codemirror_mode": {
    "name": "ipython",
    "version": 3
   },
   "file_extension": ".py",
   "mimetype": "text/x-python",
   "name": "python",
   "nbconvert_exporter": "python",
   "pygments_lexer": "ipython3",
   "version": "3.9.12"
  }
 },
 "nbformat": 4,
 "nbformat_minor": 5
}
